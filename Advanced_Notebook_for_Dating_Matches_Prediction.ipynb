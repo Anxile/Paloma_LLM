{
  "metadata": {
    "kernelspec": {
      "name": "python3",
      "display_name": "Python 3",
      "language": "python"
    },
    "language_info": {
      "name": "python",
      "version": "3.10.13",
      "mimetype": "text/x-python",
      "codemirror_mode": {
        "name": "ipython",
        "version": 3
      },
      "pygments_lexer": "ipython3",
      "nbconvert_exporter": "python",
      "file_extension": ".py"
    },
    "kaggle": {
      "accelerator": "none",
      "dataSources": [
        {
          "sourceId": 8744629,
          "sourceType": "datasetVersion",
          "datasetId": 5250700
        }
      ],
      "dockerImageVersionId": 30732,
      "isInternetEnabled": true,
      "language": "python",
      "sourceType": "notebook",
      "isGpuEnabled": false
    },
    "colab": {
      "provenance": [],
      "include_colab_link": true
    }
  },
  "nbformat_minor": 0,
  "nbformat": 4,
  "cells": [
    {
      "cell_type": "markdown",
      "metadata": {
        "id": "view-in-github",
        "colab_type": "text"
      },
      "source": [
        "<a href=\"https://colab.research.google.com/github/Anxile/Paloma_LLM/blob/main/Advanced_Notebook_for_Dating_Matches_Prediction.ipynb\" target=\"_parent\"><img src=\"https://colab.research.google.com/assets/colab-badge.svg\" alt=\"Open In Colab\"/></a>"
      ]
    },
    {
      "source": [
        "# IMPORTANT: RUN THIS CELL IN ORDER TO IMPORT YOUR KAGGLE DATA SOURCES,\n",
        "# THEN FEEL FREE TO DELETE THIS CELL.\n",
        "# NOTE: THIS NOTEBOOK ENVIRONMENT DIFFERS FROM KAGGLE'S PYTHON\n",
        "# ENVIRONMENT SO THERE MAY BE MISSING LIBRARIES USED BY YOUR\n",
        "# NOTEBOOK.\n",
        "import kagglehub\n",
        "rabieelkharoua_predict_online_dating_matches_dataset_path = kagglehub.dataset_download('rabieelkharoua/predict-online-dating-matches-dataset')\n",
        "\n",
        "print('Data source import complete.')\n"
      ],
      "metadata": {
        "id": "Vb_66nBW0MPq",
        "outputId": "2ca998ab-37c4-4e5f-cabd-362ff74ac609",
        "colab": {
          "base_uri": "https://localhost:8080/"
        }
      },
      "cell_type": "code",
      "outputs": [
        {
          "output_type": "stream",
          "name": "stdout",
          "text": [
            "Data source import complete.\n"
          ]
        }
      ],
      "execution_count": 4
    },
    {
      "cell_type": "code",
      "source": [
        "# This Python 3 environment comes with many helpful analytics libraries installed\n",
        "# It is defined by the kaggle/python Docker image: https://github.com/kaggle/docker-python\n",
        "# For example, here's several helpful packages to load\n",
        "\n",
        "import numpy as np # linear algebra\n",
        "import pandas as pd # data processing, CSV file I/O (e.g. pd.read_csv)\n",
        "\n",
        "# Input data files are available in the read-only \"../input/\" directory\n",
        "# For example, running this (by clicking run or pressing Shift+Enter) will list all files under the input directory\n",
        "\n",
        "import os\n",
        "for dirname, _, filenames in os.walk('/kaggle/input'):\n",
        "    for filename in filenames:\n",
        "        print(os.path.join(dirname, filename))\n",
        "\n",
        "# You can write up to 20GB to the current directory (/kaggle/working/) that gets preserved as output when you create a version using \"Save & Run All\"\n",
        "# You can also write temporary files to /kaggle/temp/, but they won't be saved outside of the current session"
      ],
      "metadata": {
        "execution": {
          "iopub.status.busy": "2024-06-25T09:27:34.628981Z",
          "iopub.execute_input": "2024-06-25T09:27:34.629408Z",
          "iopub.status.idle": "2024-06-25T09:27:35.10449Z",
          "shell.execute_reply.started": "2024-06-25T09:27:34.629371Z",
          "shell.execute_reply": "2024-06-25T09:27:35.103371Z"
        },
        "trusted": true,
        "id": "NV245H_80MPr",
        "outputId": "563b29ae-8e20-4652-825a-ad66e150a482",
        "colab": {
          "base_uri": "https://localhost:8080/"
        }
      },
      "execution_count": 5,
      "outputs": [
        {
          "output_type": "stream",
          "name": "stdout",
          "text": [
            "/kaggle/input/predict-online-dating-matches-dataset/Online_Dating_Behavior_Dataset.csv\n"
          ]
        }
      ]
    },
    {
      "cell_type": "markdown",
      "source": [
        "<a id='top'></a>\n",
        "<div class=\"list-group\" id=\"list-tab\" role=\"tablist\">\n",
        "<p style=\"padding: 20px; background-color:#7FDBFF;color: Black;font-weight: bold;\n",
        "          text-align: center; font-size:250%;border-radius:20px 80px;\">Online Dating Matches Prediction</p>"
      ],
      "metadata": {
        "id": "cWFTvsPo0MPr"
      }
    },
    {
      "cell_type": "markdown",
      "source": [
        "![My Image](https://storage.googleapis.com/kaggle-datasets-images/5250700/8744629/fa737d29cb27e064e63d09bb83b6bbb9/dataset-cover.jpg?t=2024-06-21-07-43-54)"
      ],
      "metadata": {
        "id": "LyM0zkU20MPr"
      }
    },
    {
      "cell_type": "markdown",
      "source": [
        "<b>🙋‍♂️🙋‍♀️ Hi all !!! We are going to work with Online Dating Matches Dataset, If you like this notebook then plz consider a upvote for me 😎😎"
      ],
      "metadata": {
        "id": "4sMCLxYc0MPr"
      }
    },
    {
      "cell_type": "markdown",
      "source": [
        "<a id=\"\"></a>\n",
        "<div class=\"list-group\" id=\"list-tab\" role=\"tablist\">\n",
        "<p style=\"padding: 20px; background-color:#7FDBFF;color: Black;font-weight: bold;\n",
        "              text-align: center; font-size:250%;border-radius:20px 80px;\">📋 TABLE OF CONTENTS</p>"
      ],
      "metadata": {
        "id": "XdMCZ7aC0MPr"
      }
    },
    {
      "cell_type": "markdown",
      "source": [
        "* [1. Importing Libraries](#1)\n",
        "    \n",
        "* [2. Meta information of dataframe](#2)\n",
        "    \n",
        "* [3.Missing values.](#3)\n",
        "\n",
        "* [3.1 Duplicated rows.](#3.1)\n",
        "    \n",
        "* [4.Statistical information of Dataframe](#4)\n",
        "\n",
        "* [5.Visualize correlation of independent features and check multicolinarity problems](#5)\n",
        "    \n",
        "* [6. EDA & Visualization](#6)\n",
        "\n",
        "    * [6.1. Numerical EDA](#6.1)\n",
        "    \n",
        "    * [6.2. Categorical EDA](#6.2)\n",
        "        \n",
        "    \n",
        "* [7. 🏍Feature Engineering](#7)\n",
        "\n",
        "    * [7.1.🏍Normalized skewed col](#7.1)\n",
        "    \n",
        "    * [7.1.🏍Outliers detection and removed](#7.2)\n",
        "    \n",
        "    * [7.2.🏍Train test split](#7.3)\n",
        "       \n",
        "    * [7.3. Scaling Features](#7.4)\n",
        "       \n",
        "    \n",
        "\n",
        "* [8. Create & Train Model](#8)\n",
        "\n",
        "* [9. Models Score](#9)\n",
        "\n",
        "* [10. Visualize Models Score](#10)\n",
        "\n",
        "\n"
      ],
      "metadata": {
        "id": "reev1q4y0MPs"
      }
    },
    {
      "cell_type": "markdown",
      "source": [
        "<a id=\"\"></a>\n",
        "<div class=\"list-group\" id=\"list-tab\" role=\"tablist\">\n",
        "<p style=\"padding: 20px; background-color:#7FDBFF;color: Black;font-weight: bold;\n",
        "              text-align: center; font-size:250%;border-radius:20px 80px;\"> 🚢Data Story</p>"
      ],
      "metadata": {
        "id": "dcWhqcH-0MPs"
      }
    },
    {
      "cell_type": "markdown",
      "source": [
        "<b>Data:<b/>\n",
        "    \n",
        "The Dataset provides a comprehensive view into the dynamics of online matchmaking interactions. It captures essential variables that influence the likelihood of successful matches across different genders. This dataset allows researchers and analysts to explore how factors such as VIP subscription status, income levels, parental status, age, and self-perceived attractiveness contribute to the outcomes of online dating endeavors.\n",
        "\n",
        "<b>Variables:<b/>\n",
        "    \n",
        "1. Gender: 0 (Male), 1 (Female)\n",
        "    \n",
        "2. PurchasedVIP: 0 (No), 1 (Yes)\n",
        "    \n",
        "3. Income: Annual income in USD\n",
        "    \n",
        "4. Children: Number of children\n",
        "    \n",
        "5. Age: Age of the user\n",
        "    \n",
        "6. Attractiveness: Subjective rating of attractiveness (1-10)\n",
        "    \n",
        "7. Matches: Number of matches obtained based on criteria\n",
        "    \n",
        "<b>Target Variable:<b/>\n",
        "    \n",
        "Matches: Number of matches received, indicative of success rate in online dating\n",
        "    "
      ],
      "metadata": {
        "id": "xYxM7Ls90MPs"
      }
    },
    {
      "cell_type": "markdown",
      "source": [
        "<a id=\"1\"></a>\n",
        "<div class=\"list-group\" id=\"1\" role=\"tablist\">\n",
        "<p style=\"padding: 20px; background-color:#7FDBFF;color: Black;font-weight: bold;\n",
        "              text-align: center; font-size:250%;border-radius:20px 80px;\">🎰 Importing Libraries</p>"
      ],
      "metadata": {
        "id": "V16UB8Ak0MPs"
      }
    },
    {
      "cell_type": "code",
      "source": [
        "#importing library\n",
        "import numpy as np\n",
        "import pandas as pd\n",
        "import matplotlib.pyplot as plt\n",
        "import seaborn as sns\n",
        "from sklearn.model_selection import GridSearchCV\n",
        "from sklearn.compose import ColumnTransformer\n",
        "from sklearn.pipeline import Pipeline\n",
        "from sklearn.metrics import r2_score,mean_absolute_error,mean_squared_error\n",
        "from sklearn.preprocessing import OneHotEncoder,OrdinalEncoder,StandardScaler,MinMaxScaler,PowerTransformer,FunctionTransformer\n",
        "from sklearn.model_selection import train_test_split,cross_val_score\n",
        "from sklearn.linear_model import LinearRegression\n",
        "from sklearn.ensemble import AdaBoostRegressor,GradientBoostingRegressor,RandomForestRegressor\n",
        "from sklearn.neighbors import KNeighborsRegressor\n",
        "from sklearn.svm import SVR\n",
        "from sklearn.tree import DecisionTreeRegressor\n",
        "from xgboost import XGBRegressor\n",
        "from xgboost.sklearn import XGBRegressor\n",
        "import warnings\n",
        "warnings.filterwarnings(\"ignore\")\n",
        "\n",
        "\n",
        "import cufflinks as cf\n",
        "import plotly.offline\n",
        "cf.go_offline()\n",
        "cf.set_config_file(offline=False, world_readable=True)\n",
        "import plotly\n",
        "import plotly.express as px\n",
        "import plotly.graph_objs as go\n",
        "import plotly.offline as py\n",
        "from plotly.offline import iplot\n",
        "from plotly.subplots import make_subplots\n",
        "import plotly.figure_factory as ff\n",
        "from plotly import tools\n",
        "\n",
        "\n",
        "%matplotlib inline"
      ],
      "metadata": {
        "id": "x_HhZX-r0MPs",
        "outputId": "352aeec4-3198-42db-8391-2f99e5068b2d",
        "colab": {
          "base_uri": "https://localhost:8080/",
          "height": 17
        }
      },
      "execution_count": 6,
      "outputs": [
        {
          "output_type": "display_data",
          "data": {
            "text/html": [
              "        <script type=\"text/javascript\">\n",
              "        window.PlotlyConfig = {MathJaxConfig: 'local'};\n",
              "        if (window.MathJax && window.MathJax.Hub && window.MathJax.Hub.Config) {window.MathJax.Hub.Config({SVG: {font: \"STIX-Web\"}});}\n",
              "        if (typeof require !== 'undefined') {\n",
              "        require.undef(\"plotly\");\n",
              "        requirejs.config({\n",
              "            paths: {\n",
              "                'plotly': ['https://cdn.plot.ly/plotly-2.35.2.min']\n",
              "            }\n",
              "        });\n",
              "        require(['plotly'], function(Plotly) {\n",
              "            window._Plotly = Plotly;\n",
              "        });\n",
              "        }\n",
              "        </script>\n",
              "        "
            ]
          },
          "metadata": {}
        }
      ]
    },
    {
      "cell_type": "code",
      "source": [
        "#Load the dataset and check the data head.\n",
        "df=pd.read_csv(\"/content/Online_Dating_Behavior_Dataset.csv\")\n",
        "df.head()"
      ],
      "metadata": {
        "id": "uLiGtlwI0MPs",
        "outputId": "0d007610-56ba-4d23-bd72-51c0e396fc40",
        "colab": {
          "base_uri": "https://localhost:8080/",
          "height": 206
        }
      },
      "execution_count": 7,
      "outputs": [
        {
          "output_type": "execute_result",
          "data": {
            "text/plain": [
              "   Gender  PurchasedVIP  Income  Children  Age  Attractiveness  Matches\n",
              "0       0             1   51777         3   47               5       70\n",
              "1       1             0   36646         0   42               7      130\n",
              "2       0             0   53801         1   25               5        0\n",
              "3       0             0   56105         0   35               8        0\n",
              "4       0             0   55597         1   36               6        0"
            ],
            "text/html": [
              "\n",
              "  <div id=\"df-034ec91d-51e9-46c9-ac4c-66c0712d5828\" class=\"colab-df-container\">\n",
              "    <div>\n",
              "<style scoped>\n",
              "    .dataframe tbody tr th:only-of-type {\n",
              "        vertical-align: middle;\n",
              "    }\n",
              "\n",
              "    .dataframe tbody tr th {\n",
              "        vertical-align: top;\n",
              "    }\n",
              "\n",
              "    .dataframe thead th {\n",
              "        text-align: right;\n",
              "    }\n",
              "</style>\n",
              "<table border=\"1\" class=\"dataframe\">\n",
              "  <thead>\n",
              "    <tr style=\"text-align: right;\">\n",
              "      <th></th>\n",
              "      <th>Gender</th>\n",
              "      <th>PurchasedVIP</th>\n",
              "      <th>Income</th>\n",
              "      <th>Children</th>\n",
              "      <th>Age</th>\n",
              "      <th>Attractiveness</th>\n",
              "      <th>Matches</th>\n",
              "    </tr>\n",
              "  </thead>\n",
              "  <tbody>\n",
              "    <tr>\n",
              "      <th>0</th>\n",
              "      <td>0</td>\n",
              "      <td>1</td>\n",
              "      <td>51777</td>\n",
              "      <td>3</td>\n",
              "      <td>47</td>\n",
              "      <td>5</td>\n",
              "      <td>70</td>\n",
              "    </tr>\n",
              "    <tr>\n",
              "      <th>1</th>\n",
              "      <td>1</td>\n",
              "      <td>0</td>\n",
              "      <td>36646</td>\n",
              "      <td>0</td>\n",
              "      <td>42</td>\n",
              "      <td>7</td>\n",
              "      <td>130</td>\n",
              "    </tr>\n",
              "    <tr>\n",
              "      <th>2</th>\n",
              "      <td>0</td>\n",
              "      <td>0</td>\n",
              "      <td>53801</td>\n",
              "      <td>1</td>\n",
              "      <td>25</td>\n",
              "      <td>5</td>\n",
              "      <td>0</td>\n",
              "    </tr>\n",
              "    <tr>\n",
              "      <th>3</th>\n",
              "      <td>0</td>\n",
              "      <td>0</td>\n",
              "      <td>56105</td>\n",
              "      <td>0</td>\n",
              "      <td>35</td>\n",
              "      <td>8</td>\n",
              "      <td>0</td>\n",
              "    </tr>\n",
              "    <tr>\n",
              "      <th>4</th>\n",
              "      <td>0</td>\n",
              "      <td>0</td>\n",
              "      <td>55597</td>\n",
              "      <td>1</td>\n",
              "      <td>36</td>\n",
              "      <td>6</td>\n",
              "      <td>0</td>\n",
              "    </tr>\n",
              "  </tbody>\n",
              "</table>\n",
              "</div>\n",
              "    <div class=\"colab-df-buttons\">\n",
              "\n",
              "  <div class=\"colab-df-container\">\n",
              "    <button class=\"colab-df-convert\" onclick=\"convertToInteractive('df-034ec91d-51e9-46c9-ac4c-66c0712d5828')\"\n",
              "            title=\"Convert this dataframe to an interactive table.\"\n",
              "            style=\"display:none;\">\n",
              "\n",
              "  <svg xmlns=\"http://www.w3.org/2000/svg\" height=\"24px\" viewBox=\"0 -960 960 960\">\n",
              "    <path d=\"M120-120v-720h720v720H120Zm60-500h600v-160H180v160Zm220 220h160v-160H400v160Zm0 220h160v-160H400v160ZM180-400h160v-160H180v160Zm440 0h160v-160H620v160ZM180-180h160v-160H180v160Zm440 0h160v-160H620v160Z\"/>\n",
              "  </svg>\n",
              "    </button>\n",
              "\n",
              "  <style>\n",
              "    .colab-df-container {\n",
              "      display:flex;\n",
              "      gap: 12px;\n",
              "    }\n",
              "\n",
              "    .colab-df-convert {\n",
              "      background-color: #E8F0FE;\n",
              "      border: none;\n",
              "      border-radius: 50%;\n",
              "      cursor: pointer;\n",
              "      display: none;\n",
              "      fill: #1967D2;\n",
              "      height: 32px;\n",
              "      padding: 0 0 0 0;\n",
              "      width: 32px;\n",
              "    }\n",
              "\n",
              "    .colab-df-convert:hover {\n",
              "      background-color: #E2EBFA;\n",
              "      box-shadow: 0px 1px 2px rgba(60, 64, 67, 0.3), 0px 1px 3px 1px rgba(60, 64, 67, 0.15);\n",
              "      fill: #174EA6;\n",
              "    }\n",
              "\n",
              "    .colab-df-buttons div {\n",
              "      margin-bottom: 4px;\n",
              "    }\n",
              "\n",
              "    [theme=dark] .colab-df-convert {\n",
              "      background-color: #3B4455;\n",
              "      fill: #D2E3FC;\n",
              "    }\n",
              "\n",
              "    [theme=dark] .colab-df-convert:hover {\n",
              "      background-color: #434B5C;\n",
              "      box-shadow: 0px 1px 3px 1px rgba(0, 0, 0, 0.15);\n",
              "      filter: drop-shadow(0px 1px 2px rgba(0, 0, 0, 0.3));\n",
              "      fill: #FFFFFF;\n",
              "    }\n",
              "  </style>\n",
              "\n",
              "    <script>\n",
              "      const buttonEl =\n",
              "        document.querySelector('#df-034ec91d-51e9-46c9-ac4c-66c0712d5828 button.colab-df-convert');\n",
              "      buttonEl.style.display =\n",
              "        google.colab.kernel.accessAllowed ? 'block' : 'none';\n",
              "\n",
              "      async function convertToInteractive(key) {\n",
              "        const element = document.querySelector('#df-034ec91d-51e9-46c9-ac4c-66c0712d5828');\n",
              "        const dataTable =\n",
              "          await google.colab.kernel.invokeFunction('convertToInteractive',\n",
              "                                                    [key], {});\n",
              "        if (!dataTable) return;\n",
              "\n",
              "        const docLinkHtml = 'Like what you see? Visit the ' +\n",
              "          '<a target=\"_blank\" href=https://colab.research.google.com/notebooks/data_table.ipynb>data table notebook</a>'\n",
              "          + ' to learn more about interactive tables.';\n",
              "        element.innerHTML = '';\n",
              "        dataTable['output_type'] = 'display_data';\n",
              "        await google.colab.output.renderOutput(dataTable, element);\n",
              "        const docLink = document.createElement('div');\n",
              "        docLink.innerHTML = docLinkHtml;\n",
              "        element.appendChild(docLink);\n",
              "      }\n",
              "    </script>\n",
              "  </div>\n",
              "\n",
              "\n",
              "    <div id=\"df-4690b0a3-5212-4171-b45e-e4b3e2c6c1d9\">\n",
              "      <button class=\"colab-df-quickchart\" onclick=\"quickchart('df-4690b0a3-5212-4171-b45e-e4b3e2c6c1d9')\"\n",
              "                title=\"Suggest charts\"\n",
              "                style=\"display:none;\">\n",
              "\n",
              "<svg xmlns=\"http://www.w3.org/2000/svg\" height=\"24px\"viewBox=\"0 0 24 24\"\n",
              "     width=\"24px\">\n",
              "    <g>\n",
              "        <path d=\"M19 3H5c-1.1 0-2 .9-2 2v14c0 1.1.9 2 2 2h14c1.1 0 2-.9 2-2V5c0-1.1-.9-2-2-2zM9 17H7v-7h2v7zm4 0h-2V7h2v10zm4 0h-2v-4h2v4z\"/>\n",
              "    </g>\n",
              "</svg>\n",
              "      </button>\n",
              "\n",
              "<style>\n",
              "  .colab-df-quickchart {\n",
              "      --bg-color: #E8F0FE;\n",
              "      --fill-color: #1967D2;\n",
              "      --hover-bg-color: #E2EBFA;\n",
              "      --hover-fill-color: #174EA6;\n",
              "      --disabled-fill-color: #AAA;\n",
              "      --disabled-bg-color: #DDD;\n",
              "  }\n",
              "\n",
              "  [theme=dark] .colab-df-quickchart {\n",
              "      --bg-color: #3B4455;\n",
              "      --fill-color: #D2E3FC;\n",
              "      --hover-bg-color: #434B5C;\n",
              "      --hover-fill-color: #FFFFFF;\n",
              "      --disabled-bg-color: #3B4455;\n",
              "      --disabled-fill-color: #666;\n",
              "  }\n",
              "\n",
              "  .colab-df-quickchart {\n",
              "    background-color: var(--bg-color);\n",
              "    border: none;\n",
              "    border-radius: 50%;\n",
              "    cursor: pointer;\n",
              "    display: none;\n",
              "    fill: var(--fill-color);\n",
              "    height: 32px;\n",
              "    padding: 0;\n",
              "    width: 32px;\n",
              "  }\n",
              "\n",
              "  .colab-df-quickchart:hover {\n",
              "    background-color: var(--hover-bg-color);\n",
              "    box-shadow: 0 1px 2px rgba(60, 64, 67, 0.3), 0 1px 3px 1px rgba(60, 64, 67, 0.15);\n",
              "    fill: var(--button-hover-fill-color);\n",
              "  }\n",
              "\n",
              "  .colab-df-quickchart-complete:disabled,\n",
              "  .colab-df-quickchart-complete:disabled:hover {\n",
              "    background-color: var(--disabled-bg-color);\n",
              "    fill: var(--disabled-fill-color);\n",
              "    box-shadow: none;\n",
              "  }\n",
              "\n",
              "  .colab-df-spinner {\n",
              "    border: 2px solid var(--fill-color);\n",
              "    border-color: transparent;\n",
              "    border-bottom-color: var(--fill-color);\n",
              "    animation:\n",
              "      spin 1s steps(1) infinite;\n",
              "  }\n",
              "\n",
              "  @keyframes spin {\n",
              "    0% {\n",
              "      border-color: transparent;\n",
              "      border-bottom-color: var(--fill-color);\n",
              "      border-left-color: var(--fill-color);\n",
              "    }\n",
              "    20% {\n",
              "      border-color: transparent;\n",
              "      border-left-color: var(--fill-color);\n",
              "      border-top-color: var(--fill-color);\n",
              "    }\n",
              "    30% {\n",
              "      border-color: transparent;\n",
              "      border-left-color: var(--fill-color);\n",
              "      border-top-color: var(--fill-color);\n",
              "      border-right-color: var(--fill-color);\n",
              "    }\n",
              "    40% {\n",
              "      border-color: transparent;\n",
              "      border-right-color: var(--fill-color);\n",
              "      border-top-color: var(--fill-color);\n",
              "    }\n",
              "    60% {\n",
              "      border-color: transparent;\n",
              "      border-right-color: var(--fill-color);\n",
              "    }\n",
              "    80% {\n",
              "      border-color: transparent;\n",
              "      border-right-color: var(--fill-color);\n",
              "      border-bottom-color: var(--fill-color);\n",
              "    }\n",
              "    90% {\n",
              "      border-color: transparent;\n",
              "      border-bottom-color: var(--fill-color);\n",
              "    }\n",
              "  }\n",
              "</style>\n",
              "\n",
              "      <script>\n",
              "        async function quickchart(key) {\n",
              "          const quickchartButtonEl =\n",
              "            document.querySelector('#' + key + ' button');\n",
              "          quickchartButtonEl.disabled = true;  // To prevent multiple clicks.\n",
              "          quickchartButtonEl.classList.add('colab-df-spinner');\n",
              "          try {\n",
              "            const charts = await google.colab.kernel.invokeFunction(\n",
              "                'suggestCharts', [key], {});\n",
              "          } catch (error) {\n",
              "            console.error('Error during call to suggestCharts:', error);\n",
              "          }\n",
              "          quickchartButtonEl.classList.remove('colab-df-spinner');\n",
              "          quickchartButtonEl.classList.add('colab-df-quickchart-complete');\n",
              "        }\n",
              "        (() => {\n",
              "          let quickchartButtonEl =\n",
              "            document.querySelector('#df-4690b0a3-5212-4171-b45e-e4b3e2c6c1d9 button');\n",
              "          quickchartButtonEl.style.display =\n",
              "            google.colab.kernel.accessAllowed ? 'block' : 'none';\n",
              "        })();\n",
              "      </script>\n",
              "    </div>\n",
              "\n",
              "    </div>\n",
              "  </div>\n"
            ],
            "application/vnd.google.colaboratory.intrinsic+json": {
              "type": "dataframe",
              "variable_name": "df",
              "summary": "{\n  \"name\": \"df\",\n  \"rows\": 1000,\n  \"fields\": [\n    {\n      \"column\": \"Gender\",\n      \"properties\": {\n        \"dtype\": \"number\",\n        \"std\": 0,\n        \"min\": 0,\n        \"max\": 1,\n        \"num_unique_values\": 2,\n        \"samples\": [\n          1,\n          0\n        ],\n        \"semantic_type\": \"\",\n        \"description\": \"\"\n      }\n    },\n    {\n      \"column\": \"PurchasedVIP\",\n      \"properties\": {\n        \"dtype\": \"number\",\n        \"std\": 0,\n        \"min\": 0,\n        \"max\": 1,\n        \"num_unique_values\": 2,\n        \"samples\": [\n          0,\n          1\n        ],\n        \"semantic_type\": \"\",\n        \"description\": \"\"\n      }\n    },\n    {\n      \"column\": \"Income\",\n      \"properties\": {\n        \"dtype\": \"number\",\n        \"std\": 9889,\n        \"min\": 20786,\n        \"max\": 81931,\n        \"num_unique_values\": 989,\n        \"samples\": [\n          39983,\n          58700\n        ],\n        \"semantic_type\": \"\",\n        \"description\": \"\"\n      }\n    },\n    {\n      \"column\": \"Children\",\n      \"properties\": {\n        \"dtype\": \"number\",\n        \"std\": 0,\n        \"min\": 0,\n        \"max\": 3,\n        \"num_unique_values\": 4,\n        \"samples\": [\n          0,\n          2\n        ],\n        \"semantic_type\": \"\",\n        \"description\": \"\"\n      }\n    },\n    {\n      \"column\": \"Age\",\n      \"properties\": {\n        \"dtype\": \"number\",\n        \"std\": 9,\n        \"min\": 18,\n        \"max\": 49,\n        \"num_unique_values\": 32,\n        \"samples\": [\n          24,\n          34\n        ],\n        \"semantic_type\": \"\",\n        \"description\": \"\"\n      }\n    },\n    {\n      \"column\": \"Attractiveness\",\n      \"properties\": {\n        \"dtype\": \"number\",\n        \"std\": 2,\n        \"min\": 1,\n        \"max\": 10,\n        \"num_unique_values\": 10,\n        \"samples\": [\n          10,\n          7\n        ],\n        \"semantic_type\": \"\",\n        \"description\": \"\"\n      }\n    },\n    {\n      \"column\": \"Matches\",\n      \"properties\": {\n        \"dtype\": \"number\",\n        \"std\": 52,\n        \"min\": 0,\n        \"max\": 160,\n        \"num_unique_values\": 11,\n        \"samples\": [\n          120,\n          70\n        ],\n        \"semantic_type\": \"\",\n        \"description\": \"\"\n      }\n    }\n  ]\n}"
            }
          },
          "metadata": {},
          "execution_count": 7
        }
      ]
    },
    {
      "cell_type": "markdown",
      "source": [
        "<a id=\"2\"></a>\n",
        "<div class=\"list-group\" id=\"1\" role=\"tablist\">\n",
        "<p style=\"padding: 20px; background-color:#7FDBFF;color: Black;font-weight: bold;\n",
        "              text-align: center; font-size:220%;border-radius:20px 80px;\">📝 Meta information\n",
        "    about Dataframe</p>"
      ],
      "metadata": {
        "id": "b1dHfJka0MPs"
      }
    },
    {
      "cell_type": "code",
      "source": [
        "#check the rows and columns number.\n",
        "print(f\"number of rows:--> {df.shape[0]} and number of columns:--> {df.shape[1]}\")"
      ],
      "metadata": {
        "id": "5tO5GXnR0MPs",
        "outputId": "9d64f153-97ea-4d22-ebdf-603fe3399295",
        "colab": {
          "base_uri": "https://localhost:8080/"
        }
      },
      "execution_count": 8,
      "outputs": [
        {
          "output_type": "stream",
          "name": "stdout",
          "text": [
            "number of rows:--> 1000 and number of columns:--> 7\n"
          ]
        }
      ]
    },
    {
      "cell_type": "code",
      "source": [
        "df.columns"
      ],
      "metadata": {
        "id": "yGi2uqaU0MPs",
        "outputId": "fa9d8f68-cbb1-41f5-f1aa-909cf1382312",
        "colab": {
          "base_uri": "https://localhost:8080/"
        }
      },
      "execution_count": 9,
      "outputs": [
        {
          "output_type": "execute_result",
          "data": {
            "text/plain": [
              "Index(['Gender', 'PurchasedVIP', 'Income', 'Children', 'Age', 'Attractiveness',\n",
              "       'Matches'],\n",
              "      dtype='object')"
            ]
          },
          "metadata": {},
          "execution_count": 9
        }
      ]
    },
    {
      "cell_type": "code",
      "source": [
        "#chack the data information\n",
        "df.info()"
      ],
      "metadata": {
        "id": "7lq9VM3Z0MPs",
        "outputId": "8dfee81e-8a18-47b5-ba41-0a322dac979e",
        "colab": {
          "base_uri": "https://localhost:8080/"
        }
      },
      "execution_count": 10,
      "outputs": [
        {
          "output_type": "stream",
          "name": "stdout",
          "text": [
            "<class 'pandas.core.frame.DataFrame'>\n",
            "RangeIndex: 1000 entries, 0 to 999\n",
            "Data columns (total 7 columns):\n",
            " #   Column          Non-Null Count  Dtype\n",
            "---  ------          --------------  -----\n",
            " 0   Gender          1000 non-null   int64\n",
            " 1   PurchasedVIP    1000 non-null   int64\n",
            " 2   Income          1000 non-null   int64\n",
            " 3   Children        1000 non-null   int64\n",
            " 4   Age             1000 non-null   int64\n",
            " 5   Attractiveness  1000 non-null   int64\n",
            " 6   Matches         1000 non-null   int64\n",
            "dtypes: int64(7)\n",
            "memory usage: 54.8 KB\n"
          ]
        }
      ]
    },
    {
      "cell_type": "markdown",
      "source": [
        "<a id=\"3\"></a>\n",
        "<div class=\"list-group\" id=\"1\" role=\"tablist\">\n",
        "<p style=\"padding: 20px; background-color:#7FDBFF;color: Black;font-weight: bold;\n",
        "              text-align: center; font-size:220%;border-radius:20px 80px;\">🛒Missing values </p>"
      ],
      "metadata": {
        "id": "IAeJwiEf0MPs"
      }
    },
    {
      "cell_type": "code",
      "source": [
        "#check for missing values\n",
        "def checking_m(df):\n",
        "    null_v = df.isnull().sum().sort_values(ascending=False)\n",
        "    null_percent = (df.isnull().sum()/df.isnull().count()).sort_values(ascending=False)\n",
        "    null_v = pd.concat([null_v, null_percent], axis=1, keys=['Missing_Number', 'Missing_Percent'])\n",
        "    return null_v\n",
        "\n",
        "checking_m(df)"
      ],
      "metadata": {
        "id": "gc4DmsuB0MPt",
        "outputId": "e05c01e4-1331-42fe-e955-ee8ba8617e2e",
        "colab": {
          "base_uri": "https://localhost:8080/",
          "height": 269
        }
      },
      "execution_count": 11,
      "outputs": [
        {
          "output_type": "execute_result",
          "data": {
            "text/plain": [
              "                Missing_Number  Missing_Percent\n",
              "Gender                       0              0.0\n",
              "PurchasedVIP                 0              0.0\n",
              "Income                       0              0.0\n",
              "Children                     0              0.0\n",
              "Age                          0              0.0\n",
              "Attractiveness               0              0.0\n",
              "Matches                      0              0.0"
            ],
            "text/html": [
              "\n",
              "  <div id=\"df-80124f61-31b3-4997-b133-32d84d0444d6\" class=\"colab-df-container\">\n",
              "    <div>\n",
              "<style scoped>\n",
              "    .dataframe tbody tr th:only-of-type {\n",
              "        vertical-align: middle;\n",
              "    }\n",
              "\n",
              "    .dataframe tbody tr th {\n",
              "        vertical-align: top;\n",
              "    }\n",
              "\n",
              "    .dataframe thead th {\n",
              "        text-align: right;\n",
              "    }\n",
              "</style>\n",
              "<table border=\"1\" class=\"dataframe\">\n",
              "  <thead>\n",
              "    <tr style=\"text-align: right;\">\n",
              "      <th></th>\n",
              "      <th>Missing_Number</th>\n",
              "      <th>Missing_Percent</th>\n",
              "    </tr>\n",
              "  </thead>\n",
              "  <tbody>\n",
              "    <tr>\n",
              "      <th>Gender</th>\n",
              "      <td>0</td>\n",
              "      <td>0.0</td>\n",
              "    </tr>\n",
              "    <tr>\n",
              "      <th>PurchasedVIP</th>\n",
              "      <td>0</td>\n",
              "      <td>0.0</td>\n",
              "    </tr>\n",
              "    <tr>\n",
              "      <th>Income</th>\n",
              "      <td>0</td>\n",
              "      <td>0.0</td>\n",
              "    </tr>\n",
              "    <tr>\n",
              "      <th>Children</th>\n",
              "      <td>0</td>\n",
              "      <td>0.0</td>\n",
              "    </tr>\n",
              "    <tr>\n",
              "      <th>Age</th>\n",
              "      <td>0</td>\n",
              "      <td>0.0</td>\n",
              "    </tr>\n",
              "    <tr>\n",
              "      <th>Attractiveness</th>\n",
              "      <td>0</td>\n",
              "      <td>0.0</td>\n",
              "    </tr>\n",
              "    <tr>\n",
              "      <th>Matches</th>\n",
              "      <td>0</td>\n",
              "      <td>0.0</td>\n",
              "    </tr>\n",
              "  </tbody>\n",
              "</table>\n",
              "</div>\n",
              "    <div class=\"colab-df-buttons\">\n",
              "\n",
              "  <div class=\"colab-df-container\">\n",
              "    <button class=\"colab-df-convert\" onclick=\"convertToInteractive('df-80124f61-31b3-4997-b133-32d84d0444d6')\"\n",
              "            title=\"Convert this dataframe to an interactive table.\"\n",
              "            style=\"display:none;\">\n",
              "\n",
              "  <svg xmlns=\"http://www.w3.org/2000/svg\" height=\"24px\" viewBox=\"0 -960 960 960\">\n",
              "    <path d=\"M120-120v-720h720v720H120Zm60-500h600v-160H180v160Zm220 220h160v-160H400v160Zm0 220h160v-160H400v160ZM180-400h160v-160H180v160Zm440 0h160v-160H620v160ZM180-180h160v-160H180v160Zm440 0h160v-160H620v160Z\"/>\n",
              "  </svg>\n",
              "    </button>\n",
              "\n",
              "  <style>\n",
              "    .colab-df-container {\n",
              "      display:flex;\n",
              "      gap: 12px;\n",
              "    }\n",
              "\n",
              "    .colab-df-convert {\n",
              "      background-color: #E8F0FE;\n",
              "      border: none;\n",
              "      border-radius: 50%;\n",
              "      cursor: pointer;\n",
              "      display: none;\n",
              "      fill: #1967D2;\n",
              "      height: 32px;\n",
              "      padding: 0 0 0 0;\n",
              "      width: 32px;\n",
              "    }\n",
              "\n",
              "    .colab-df-convert:hover {\n",
              "      background-color: #E2EBFA;\n",
              "      box-shadow: 0px 1px 2px rgba(60, 64, 67, 0.3), 0px 1px 3px 1px rgba(60, 64, 67, 0.15);\n",
              "      fill: #174EA6;\n",
              "    }\n",
              "\n",
              "    .colab-df-buttons div {\n",
              "      margin-bottom: 4px;\n",
              "    }\n",
              "\n",
              "    [theme=dark] .colab-df-convert {\n",
              "      background-color: #3B4455;\n",
              "      fill: #D2E3FC;\n",
              "    }\n",
              "\n",
              "    [theme=dark] .colab-df-convert:hover {\n",
              "      background-color: #434B5C;\n",
              "      box-shadow: 0px 1px 3px 1px rgba(0, 0, 0, 0.15);\n",
              "      filter: drop-shadow(0px 1px 2px rgba(0, 0, 0, 0.3));\n",
              "      fill: #FFFFFF;\n",
              "    }\n",
              "  </style>\n",
              "\n",
              "    <script>\n",
              "      const buttonEl =\n",
              "        document.querySelector('#df-80124f61-31b3-4997-b133-32d84d0444d6 button.colab-df-convert');\n",
              "      buttonEl.style.display =\n",
              "        google.colab.kernel.accessAllowed ? 'block' : 'none';\n",
              "\n",
              "      async function convertToInteractive(key) {\n",
              "        const element = document.querySelector('#df-80124f61-31b3-4997-b133-32d84d0444d6');\n",
              "        const dataTable =\n",
              "          await google.colab.kernel.invokeFunction('convertToInteractive',\n",
              "                                                    [key], {});\n",
              "        if (!dataTable) return;\n",
              "\n",
              "        const docLinkHtml = 'Like what you see? Visit the ' +\n",
              "          '<a target=\"_blank\" href=https://colab.research.google.com/notebooks/data_table.ipynb>data table notebook</a>'\n",
              "          + ' to learn more about interactive tables.';\n",
              "        element.innerHTML = '';\n",
              "        dataTable['output_type'] = 'display_data';\n",
              "        await google.colab.output.renderOutput(dataTable, element);\n",
              "        const docLink = document.createElement('div');\n",
              "        docLink.innerHTML = docLinkHtml;\n",
              "        element.appendChild(docLink);\n",
              "      }\n",
              "    </script>\n",
              "  </div>\n",
              "\n",
              "\n",
              "    <div id=\"df-7e9607b0-2c29-426a-ba7b-6b527dd5eace\">\n",
              "      <button class=\"colab-df-quickchart\" onclick=\"quickchart('df-7e9607b0-2c29-426a-ba7b-6b527dd5eace')\"\n",
              "                title=\"Suggest charts\"\n",
              "                style=\"display:none;\">\n",
              "\n",
              "<svg xmlns=\"http://www.w3.org/2000/svg\" height=\"24px\"viewBox=\"0 0 24 24\"\n",
              "     width=\"24px\">\n",
              "    <g>\n",
              "        <path d=\"M19 3H5c-1.1 0-2 .9-2 2v14c0 1.1.9 2 2 2h14c1.1 0 2-.9 2-2V5c0-1.1-.9-2-2-2zM9 17H7v-7h2v7zm4 0h-2V7h2v10zm4 0h-2v-4h2v4z\"/>\n",
              "    </g>\n",
              "</svg>\n",
              "      </button>\n",
              "\n",
              "<style>\n",
              "  .colab-df-quickchart {\n",
              "      --bg-color: #E8F0FE;\n",
              "      --fill-color: #1967D2;\n",
              "      --hover-bg-color: #E2EBFA;\n",
              "      --hover-fill-color: #174EA6;\n",
              "      --disabled-fill-color: #AAA;\n",
              "      --disabled-bg-color: #DDD;\n",
              "  }\n",
              "\n",
              "  [theme=dark] .colab-df-quickchart {\n",
              "      --bg-color: #3B4455;\n",
              "      --fill-color: #D2E3FC;\n",
              "      --hover-bg-color: #434B5C;\n",
              "      --hover-fill-color: #FFFFFF;\n",
              "      --disabled-bg-color: #3B4455;\n",
              "      --disabled-fill-color: #666;\n",
              "  }\n",
              "\n",
              "  .colab-df-quickchart {\n",
              "    background-color: var(--bg-color);\n",
              "    border: none;\n",
              "    border-radius: 50%;\n",
              "    cursor: pointer;\n",
              "    display: none;\n",
              "    fill: var(--fill-color);\n",
              "    height: 32px;\n",
              "    padding: 0;\n",
              "    width: 32px;\n",
              "  }\n",
              "\n",
              "  .colab-df-quickchart:hover {\n",
              "    background-color: var(--hover-bg-color);\n",
              "    box-shadow: 0 1px 2px rgba(60, 64, 67, 0.3), 0 1px 3px 1px rgba(60, 64, 67, 0.15);\n",
              "    fill: var(--button-hover-fill-color);\n",
              "  }\n",
              "\n",
              "  .colab-df-quickchart-complete:disabled,\n",
              "  .colab-df-quickchart-complete:disabled:hover {\n",
              "    background-color: var(--disabled-bg-color);\n",
              "    fill: var(--disabled-fill-color);\n",
              "    box-shadow: none;\n",
              "  }\n",
              "\n",
              "  .colab-df-spinner {\n",
              "    border: 2px solid var(--fill-color);\n",
              "    border-color: transparent;\n",
              "    border-bottom-color: var(--fill-color);\n",
              "    animation:\n",
              "      spin 1s steps(1) infinite;\n",
              "  }\n",
              "\n",
              "  @keyframes spin {\n",
              "    0% {\n",
              "      border-color: transparent;\n",
              "      border-bottom-color: var(--fill-color);\n",
              "      border-left-color: var(--fill-color);\n",
              "    }\n",
              "    20% {\n",
              "      border-color: transparent;\n",
              "      border-left-color: var(--fill-color);\n",
              "      border-top-color: var(--fill-color);\n",
              "    }\n",
              "    30% {\n",
              "      border-color: transparent;\n",
              "      border-left-color: var(--fill-color);\n",
              "      border-top-color: var(--fill-color);\n",
              "      border-right-color: var(--fill-color);\n",
              "    }\n",
              "    40% {\n",
              "      border-color: transparent;\n",
              "      border-right-color: var(--fill-color);\n",
              "      border-top-color: var(--fill-color);\n",
              "    }\n",
              "    60% {\n",
              "      border-color: transparent;\n",
              "      border-right-color: var(--fill-color);\n",
              "    }\n",
              "    80% {\n",
              "      border-color: transparent;\n",
              "      border-right-color: var(--fill-color);\n",
              "      border-bottom-color: var(--fill-color);\n",
              "    }\n",
              "    90% {\n",
              "      border-color: transparent;\n",
              "      border-bottom-color: var(--fill-color);\n",
              "    }\n",
              "  }\n",
              "</style>\n",
              "\n",
              "      <script>\n",
              "        async function quickchart(key) {\n",
              "          const quickchartButtonEl =\n",
              "            document.querySelector('#' + key + ' button');\n",
              "          quickchartButtonEl.disabled = true;  // To prevent multiple clicks.\n",
              "          quickchartButtonEl.classList.add('colab-df-spinner');\n",
              "          try {\n",
              "            const charts = await google.colab.kernel.invokeFunction(\n",
              "                'suggestCharts', [key], {});\n",
              "          } catch (error) {\n",
              "            console.error('Error during call to suggestCharts:', error);\n",
              "          }\n",
              "          quickchartButtonEl.classList.remove('colab-df-spinner');\n",
              "          quickchartButtonEl.classList.add('colab-df-quickchart-complete');\n",
              "        }\n",
              "        (() => {\n",
              "          let quickchartButtonEl =\n",
              "            document.querySelector('#df-7e9607b0-2c29-426a-ba7b-6b527dd5eace button');\n",
              "          quickchartButtonEl.style.display =\n",
              "            google.colab.kernel.accessAllowed ? 'block' : 'none';\n",
              "        })();\n",
              "      </script>\n",
              "    </div>\n",
              "\n",
              "    </div>\n",
              "  </div>\n"
            ],
            "application/vnd.google.colaboratory.intrinsic+json": {
              "type": "dataframe",
              "summary": "{\n  \"name\": \"checking_m(df)\",\n  \"rows\": 7,\n  \"fields\": [\n    {\n      \"column\": \"Missing_Number\",\n      \"properties\": {\n        \"dtype\": \"number\",\n        \"std\": 0,\n        \"min\": 0,\n        \"max\": 0,\n        \"num_unique_values\": 1,\n        \"samples\": [\n          0\n        ],\n        \"semantic_type\": \"\",\n        \"description\": \"\"\n      }\n    },\n    {\n      \"column\": \"Missing_Percent\",\n      \"properties\": {\n        \"dtype\": \"number\",\n        \"std\": 0.0,\n        \"min\": 0.0,\n        \"max\": 0.0,\n        \"num_unique_values\": 1,\n        \"samples\": [\n          0.0\n        ],\n        \"semantic_type\": \"\",\n        \"description\": \"\"\n      }\n    }\n  ]\n}"
            }
          },
          "metadata": {},
          "execution_count": 11
        }
      ]
    },
    {
      "cell_type": "markdown",
      "source": [
        "<b>No missing or Nan values found , great 😁"
      ],
      "metadata": {
        "id": "JWyvFSay0MPt"
      }
    },
    {
      "cell_type": "markdown",
      "source": [
        "<a id=\"3.1\"></a>\n",
        "<div class=\"list-group\" id=\"1\" role=\"tablist\">\n",
        "<p style=\"padding: 20px; background-color:#7FDBFF;color: Black;font-weight: bold;\n",
        "              text-align: center; font-size:220%;border-radius:20px 80px;\">🤼‍♀️Duplicated rows </p>"
      ],
      "metadata": {
        "id": "aFSXkJLq0MPt"
      }
    },
    {
      "cell_type": "code",
      "source": [
        "#check for dublicated rows\n",
        "print(\"Numbers of duplicated rows :\",df.duplicated().sum())"
      ],
      "metadata": {
        "id": "8LtCln7E0MPt",
        "outputId": "d20810ea-9afc-40ce-e6ad-d80e6c930457",
        "colab": {
          "base_uri": "https://localhost:8080/"
        }
      },
      "execution_count": 12,
      "outputs": [
        {
          "output_type": "stream",
          "name": "stdout",
          "text": [
            "Numbers of duplicated rows : 0\n"
          ]
        }
      ]
    },
    {
      "cell_type": "markdown",
      "source": [
        "<a id=\"4\"></a>\n",
        "<div class=\"list-group\" id=\"1\" role=\"tablist\">\n",
        "<p style=\"padding: 20px; background-color:#7FDBFF;color: Black;font-weight: bold;\n",
        "              text-align: center; font-size:220%;border-radius:20px 80px;\">📈 Statistical information of Dataframe </p>"
      ],
      "metadata": {
        "id": "n1OvM_K30MPt"
      }
    },
    {
      "cell_type": "code",
      "source": [
        "#check data description\n",
        "df.describe().T.style.bar(subset=['mean'], color='#205ff2').background_gradient(subset=['std'], cmap='mako').background_gradient(subset=['50%'], cmap='coolwarm')"
      ],
      "metadata": {
        "id": "P7nAcawu0MPt",
        "outputId": "c7786b8d-3597-4f93-8b24-585111bd0f5f",
        "colab": {
          "base_uri": "https://localhost:8080/",
          "height": 269
        }
      },
      "execution_count": 13,
      "outputs": [
        {
          "output_type": "execute_result",
          "data": {
            "text/plain": [
              "<pandas.io.formats.style.Styler at 0x7dd025747e90>"
            ],
            "text/html": [
              "<style type=\"text/css\">\n",
              "#T_31ae7_row0_col1, #T_31ae7_row1_col1, #T_31ae7_row3_col1, #T_31ae7_row5_col1 {\n",
              "  width: 10em;\n",
              "  background: linear-gradient(90deg, #205ff2 0.0%, transparent 0.0%);\n",
              "}\n",
              "#T_31ae7_row0_col2, #T_31ae7_row1_col2, #T_31ae7_row3_col2, #T_31ae7_row4_col2, #T_31ae7_row5_col2 {\n",
              "  background-color: #0b0405;\n",
              "  color: #f1f1f1;\n",
              "}\n",
              "#T_31ae7_row0_col5, #T_31ae7_row1_col5, #T_31ae7_row3_col5, #T_31ae7_row4_col5, #T_31ae7_row5_col5, #T_31ae7_row6_col5 {\n",
              "  background-color: #3b4cc0;\n",
              "  color: #f1f1f1;\n",
              "}\n",
              "#T_31ae7_row2_col1 {\n",
              "  width: 10em;\n",
              "  background: linear-gradient(90deg, #205ff2 100.0%, transparent 100.0%);\n",
              "}\n",
              "#T_31ae7_row2_col2 {\n",
              "  background-color: #def5e5;\n",
              "  color: #000000;\n",
              "}\n",
              "#T_31ae7_row2_col5 {\n",
              "  background-color: #b40426;\n",
              "  color: #f1f1f1;\n",
              "}\n",
              "#T_31ae7_row4_col1, #T_31ae7_row6_col1 {\n",
              "  width: 10em;\n",
              "  background: linear-gradient(90deg, #205ff2 0.1%, transparent 0.1%);\n",
              "}\n",
              "#T_31ae7_row6_col2 {\n",
              "  background-color: #0d0406;\n",
              "  color: #f1f1f1;\n",
              "}\n",
              "</style>\n",
              "<table id=\"T_31ae7\" class=\"dataframe\">\n",
              "  <thead>\n",
              "    <tr>\n",
              "      <th class=\"blank level0\" >&nbsp;</th>\n",
              "      <th id=\"T_31ae7_level0_col0\" class=\"col_heading level0 col0\" >count</th>\n",
              "      <th id=\"T_31ae7_level0_col1\" class=\"col_heading level0 col1\" >mean</th>\n",
              "      <th id=\"T_31ae7_level0_col2\" class=\"col_heading level0 col2\" >std</th>\n",
              "      <th id=\"T_31ae7_level0_col3\" class=\"col_heading level0 col3\" >min</th>\n",
              "      <th id=\"T_31ae7_level0_col4\" class=\"col_heading level0 col4\" >25%</th>\n",
              "      <th id=\"T_31ae7_level0_col5\" class=\"col_heading level0 col5\" >50%</th>\n",
              "      <th id=\"T_31ae7_level0_col6\" class=\"col_heading level0 col6\" >75%</th>\n",
              "      <th id=\"T_31ae7_level0_col7\" class=\"col_heading level0 col7\" >max</th>\n",
              "    </tr>\n",
              "  </thead>\n",
              "  <tbody>\n",
              "    <tr>\n",
              "      <th id=\"T_31ae7_level0_row0\" class=\"row_heading level0 row0\" >Gender</th>\n",
              "      <td id=\"T_31ae7_row0_col0\" class=\"data row0 col0\" >1000.000000</td>\n",
              "      <td id=\"T_31ae7_row0_col1\" class=\"data row0 col1\" >0.510000</td>\n",
              "      <td id=\"T_31ae7_row0_col2\" class=\"data row0 col2\" >0.500150</td>\n",
              "      <td id=\"T_31ae7_row0_col3\" class=\"data row0 col3\" >0.000000</td>\n",
              "      <td id=\"T_31ae7_row0_col4\" class=\"data row0 col4\" >0.000000</td>\n",
              "      <td id=\"T_31ae7_row0_col5\" class=\"data row0 col5\" >1.000000</td>\n",
              "      <td id=\"T_31ae7_row0_col6\" class=\"data row0 col6\" >1.000000</td>\n",
              "      <td id=\"T_31ae7_row0_col7\" class=\"data row0 col7\" >1.000000</td>\n",
              "    </tr>\n",
              "    <tr>\n",
              "      <th id=\"T_31ae7_level0_row1\" class=\"row_heading level0 row1\" >PurchasedVIP</th>\n",
              "      <td id=\"T_31ae7_row1_col0\" class=\"data row1 col0\" >1000.000000</td>\n",
              "      <td id=\"T_31ae7_row1_col1\" class=\"data row1 col1\" >0.474000</td>\n",
              "      <td id=\"T_31ae7_row1_col2\" class=\"data row1 col2\" >0.499573</td>\n",
              "      <td id=\"T_31ae7_row1_col3\" class=\"data row1 col3\" >0.000000</td>\n",
              "      <td id=\"T_31ae7_row1_col4\" class=\"data row1 col4\" >0.000000</td>\n",
              "      <td id=\"T_31ae7_row1_col5\" class=\"data row1 col5\" >0.000000</td>\n",
              "      <td id=\"T_31ae7_row1_col6\" class=\"data row1 col6\" >1.000000</td>\n",
              "      <td id=\"T_31ae7_row1_col7\" class=\"data row1 col7\" >1.000000</td>\n",
              "    </tr>\n",
              "    <tr>\n",
              "      <th id=\"T_31ae7_level0_row2\" class=\"row_heading level0 row2\" >Income</th>\n",
              "      <td id=\"T_31ae7_row2_col0\" class=\"data row2 col0\" >1000.000000</td>\n",
              "      <td id=\"T_31ae7_row2_col1\" class=\"data row2 col1\" >50988.447000</td>\n",
              "      <td id=\"T_31ae7_row2_col2\" class=\"data row2 col2\" >9889.336141</td>\n",
              "      <td id=\"T_31ae7_row2_col3\" class=\"data row2 col3\" >20786.000000</td>\n",
              "      <td id=\"T_31ae7_row2_col4\" class=\"data row2 col4\" >44358.500000</td>\n",
              "      <td id=\"T_31ae7_row2_col5\" class=\"data row2 col5\" >50841.500000</td>\n",
              "      <td id=\"T_31ae7_row2_col6\" class=\"data row2 col6\" >57396.000000</td>\n",
              "      <td id=\"T_31ae7_row2_col7\" class=\"data row2 col7\" >81931.000000</td>\n",
              "    </tr>\n",
              "    <tr>\n",
              "      <th id=\"T_31ae7_level0_row3\" class=\"row_heading level0 row3\" >Children</th>\n",
              "      <td id=\"T_31ae7_row3_col0\" class=\"data row3 col0\" >1000.000000</td>\n",
              "      <td id=\"T_31ae7_row3_col1\" class=\"data row3 col1\" >0.978000</td>\n",
              "      <td id=\"T_31ae7_row3_col2\" class=\"data row3 col2\" >0.997251</td>\n",
              "      <td id=\"T_31ae7_row3_col3\" class=\"data row3 col3\" >0.000000</td>\n",
              "      <td id=\"T_31ae7_row3_col4\" class=\"data row3 col4\" >0.000000</td>\n",
              "      <td id=\"T_31ae7_row3_col5\" class=\"data row3 col5\" >1.000000</td>\n",
              "      <td id=\"T_31ae7_row3_col6\" class=\"data row3 col6\" >2.000000</td>\n",
              "      <td id=\"T_31ae7_row3_col7\" class=\"data row3 col7\" >3.000000</td>\n",
              "    </tr>\n",
              "    <tr>\n",
              "      <th id=\"T_31ae7_level0_row4\" class=\"row_heading level0 row4\" >Age</th>\n",
              "      <td id=\"T_31ae7_row4_col0\" class=\"data row4 col0\" >1000.000000</td>\n",
              "      <td id=\"T_31ae7_row4_col1\" class=\"data row4 col1\" >34.616000</td>\n",
              "      <td id=\"T_31ae7_row4_col2\" class=\"data row4 col2\" >9.147799</td>\n",
              "      <td id=\"T_31ae7_row4_col3\" class=\"data row4 col3\" >18.000000</td>\n",
              "      <td id=\"T_31ae7_row4_col4\" class=\"data row4 col4\" >27.000000</td>\n",
              "      <td id=\"T_31ae7_row4_col5\" class=\"data row4 col5\" >35.000000</td>\n",
              "      <td id=\"T_31ae7_row4_col6\" class=\"data row4 col6\" >43.000000</td>\n",
              "      <td id=\"T_31ae7_row4_col7\" class=\"data row4 col7\" >49.000000</td>\n",
              "    </tr>\n",
              "    <tr>\n",
              "      <th id=\"T_31ae7_level0_row5\" class=\"row_heading level0 row5\" >Attractiveness</th>\n",
              "      <td id=\"T_31ae7_row5_col0\" class=\"data row5 col0\" >1000.000000</td>\n",
              "      <td id=\"T_31ae7_row5_col1\" class=\"data row5 col1\" >5.624000</td>\n",
              "      <td id=\"T_31ae7_row5_col2\" class=\"data row5 col2\" >2.824288</td>\n",
              "      <td id=\"T_31ae7_row5_col3\" class=\"data row5 col3\" >1.000000</td>\n",
              "      <td id=\"T_31ae7_row5_col4\" class=\"data row5 col4\" >3.000000</td>\n",
              "      <td id=\"T_31ae7_row5_col5\" class=\"data row5 col5\" >6.000000</td>\n",
              "      <td id=\"T_31ae7_row5_col6\" class=\"data row5 col6\" >8.000000</td>\n",
              "      <td id=\"T_31ae7_row5_col7\" class=\"data row5 col7\" >10.000000</td>\n",
              "    </tr>\n",
              "    <tr>\n",
              "      <th id=\"T_31ae7_level0_row6\" class=\"row_heading level0 row6\" >Matches</th>\n",
              "      <td id=\"T_31ae7_row6_col0\" class=\"data row6 col0\" >1000.000000</td>\n",
              "      <td id=\"T_31ae7_row6_col1\" class=\"data row6 col1\" >76.050000</td>\n",
              "      <td id=\"T_31ae7_row6_col2\" class=\"data row6 col2\" >52.713150</td>\n",
              "      <td id=\"T_31ae7_row6_col3\" class=\"data row6 col3\" >0.000000</td>\n",
              "      <td id=\"T_31ae7_row6_col4\" class=\"data row6 col4\" >0.000000</td>\n",
              "      <td id=\"T_31ae7_row6_col5\" class=\"data row6 col5\" >70.000000</td>\n",
              "      <td id=\"T_31ae7_row6_col6\" class=\"data row6 col6\" >120.000000</td>\n",
              "      <td id=\"T_31ae7_row6_col7\" class=\"data row6 col7\" >160.000000</td>\n",
              "    </tr>\n",
              "  </tbody>\n",
              "</table>\n"
            ]
          },
          "metadata": {},
          "execution_count": 13
        }
      ]
    },
    {
      "cell_type": "code",
      "source": [
        "#check the correlation between terget and each of columns\n",
        "df.corr()[\"Matches\"]"
      ],
      "metadata": {
        "id": "Z0WfbalF0MPt",
        "outputId": "c41ae8e6-20ef-4c87-96b6-96ae9c4ac687",
        "colab": {
          "base_uri": "https://localhost:8080/",
          "height": 304
        }
      },
      "execution_count": 14,
      "outputs": [
        {
          "output_type": "execute_result",
          "data": {
            "text/plain": [
              "Gender            0.800911\n",
              "PurchasedVIP      0.338011\n",
              "Income            0.007140\n",
              "Children          0.016435\n",
              "Age              -0.043462\n",
              "Attractiveness    0.313557\n",
              "Matches           1.000000\n",
              "Name: Matches, dtype: float64"
            ],
            "text/html": [
              "<div>\n",
              "<style scoped>\n",
              "    .dataframe tbody tr th:only-of-type {\n",
              "        vertical-align: middle;\n",
              "    }\n",
              "\n",
              "    .dataframe tbody tr th {\n",
              "        vertical-align: top;\n",
              "    }\n",
              "\n",
              "    .dataframe thead th {\n",
              "        text-align: right;\n",
              "    }\n",
              "</style>\n",
              "<table border=\"1\" class=\"dataframe\">\n",
              "  <thead>\n",
              "    <tr style=\"text-align: right;\">\n",
              "      <th></th>\n",
              "      <th>Matches</th>\n",
              "    </tr>\n",
              "  </thead>\n",
              "  <tbody>\n",
              "    <tr>\n",
              "      <th>Gender</th>\n",
              "      <td>0.800911</td>\n",
              "    </tr>\n",
              "    <tr>\n",
              "      <th>PurchasedVIP</th>\n",
              "      <td>0.338011</td>\n",
              "    </tr>\n",
              "    <tr>\n",
              "      <th>Income</th>\n",
              "      <td>0.007140</td>\n",
              "    </tr>\n",
              "    <tr>\n",
              "      <th>Children</th>\n",
              "      <td>0.016435</td>\n",
              "    </tr>\n",
              "    <tr>\n",
              "      <th>Age</th>\n",
              "      <td>-0.043462</td>\n",
              "    </tr>\n",
              "    <tr>\n",
              "      <th>Attractiveness</th>\n",
              "      <td>0.313557</td>\n",
              "    </tr>\n",
              "    <tr>\n",
              "      <th>Matches</th>\n",
              "      <td>1.000000</td>\n",
              "    </tr>\n",
              "  </tbody>\n",
              "</table>\n",
              "</div><br><label><b>dtype:</b> float64</label>"
            ]
          },
          "metadata": {},
          "execution_count": 14
        }
      ]
    },
    {
      "cell_type": "markdown",
      "source": [
        "<a id=\"5\"></a>\n",
        "<div class=\"list-group\" id=\"1\" role=\"tablist\">\n",
        "<p style=\"padding: 20px; background-color:#7FDBFF;color: Black;font-weight: bold;\n",
        "              text-align: center; font-size:150%;border-radius:20px 80px;\">🎰 Visualize correlation of independent features and check multicolinarity problems </p>"
      ],
      "metadata": {
        "id": "sPAE7vji0MPt"
      }
    },
    {
      "cell_type": "code",
      "source": [
        "plt.figure(figsize=(20,10))\n",
        "\n",
        "#plot heat map\n",
        "sns.heatmap(df.corr(),annot=True,cmap=\"YlGnBu\",linecolor='black')"
      ],
      "metadata": {
        "id": "cV75_UiD0MPt",
        "outputId": "6c3d400f-17e8-4d4e-d960-15043bc78625",
        "colab": {
          "base_uri": "https://localhost:8080/",
          "height": 680
        }
      },
      "execution_count": 15,
      "outputs": [
        {
          "output_type": "execute_result",
          "data": {
            "text/plain": [
              "<Axes: >"
            ]
          },
          "metadata": {},
          "execution_count": 15
        },
        {
          "output_type": "display_data",
          "data": {
            "text/plain": [
              "<Figure size 2000x1000 with 2 Axes>"
            ],
            "image/png": "[encoded data removed]"
          },
          "metadata": {}
        }
      ]
    },
    {
      "cell_type": "code",
      "source": [
        "#with the function we can select highly correlated  independent features\n",
        "#it will remove the first feature that is correlated with anything other feature\n",
        "def correlation(df,threshold):\n",
        "    coll_corr=set() #set of all the names of correlated columns\n",
        "    corr_matrix=df.corr()\n",
        "    for i in range (len(corr_matrix.columns)):\n",
        "        for j in range(i):\n",
        "            if abs(corr_matrix.iloc[i,j])> threshold:\n",
        "                colname=corr_matrix.columns[i] #getting the name of columns\n",
        "                coll_corr.add(colname)\n",
        "    return coll_corr"
      ],
      "metadata": {
        "id": "4HH55Ha-0MPt"
      },
      "execution_count": 16,
      "outputs": []
    },
    {
      "cell_type": "code",
      "source": [
        "#calling the fuction\n",
        "corr_feature = correlation(df.iloc[:,:-1],0.85)\n",
        "len(set(corr_feature))"
      ],
      "metadata": {
        "id": "K6HeksV90MPt",
        "outputId": "5eb9ecef-5e5a-463c-8de2-0dfa1a34bf50",
        "colab": {
          "base_uri": "https://localhost:8080/"
        }
      },
      "execution_count": 17,
      "outputs": [
        {
          "output_type": "execute_result",
          "data": {
            "text/plain": [
              "0"
            ]
          },
          "metadata": {},
          "execution_count": 17
        }
      ]
    },
    {
      "cell_type": "markdown",
      "source": [
        "<b> No highly correlated independent features or no multicolinarity problems 😎"
      ],
      "metadata": {
        "id": "397SSAHj0MPt"
      }
    },
    {
      "cell_type": "markdown",
      "source": [
        "<a id=\"6\"></a>\n",
        "<div class=\"list-group\" id=\"1\" role=\"tablist\">\n",
        "<p style=\"padding: 20px; background-color:#7FDBFF;color: Black;font-weight: bold;\n",
        "              text-align: center; font-size:250%;border-radius:20px 80px;\">🔥 EDA & Visualization</p>"
      ],
      "metadata": {
        "id": "E130FG8x0MPt"
      }
    },
    {
      "cell_type": "markdown",
      "source": [
        "<a id=\"6.1\"></a>\n",
        "<div class=\"list-group\" id=\"1\" role=\"tablist\">\n",
        "<p style=\"padding: 20px; background-color:#7FDBFF;color: Black;font-weight: bold;\n",
        "              text-align: center; font-size:250%;border-radius:20px 80px;\">🔥 Numerical columns EDA</p>"
      ],
      "metadata": {
        "id": "vn-uySZj0MPt"
      }
    },
    {
      "cell_type": "code",
      "source": [
        "df.head()"
      ],
      "metadata": {
        "id": "_BuMf6Tw0MPt",
        "outputId": "67ada7b3-5ffe-4fbe-d3fe-dece6653578c",
        "colab": {
          "base_uri": "https://localhost:8080/",
          "height": 206
        }
      },
      "execution_count": 18,
      "outputs": [
        {
          "output_type": "execute_result",
          "data": {
            "text/plain": [
              "   Gender  PurchasedVIP  Income  Children  Age  Attractiveness  Matches\n",
              "0       0             1   51777         3   47               5       70\n",
              "1       1             0   36646         0   42               7      130\n",
              "2       0             0   53801         1   25               5        0\n",
              "3       0             0   56105         0   35               8        0\n",
              "4       0             0   55597         1   36               6        0"
            ],
            "text/html": [
              "\n",
              "  <div id=\"df-e381c727-7d2a-4b0b-a285-e6a14da16577\" class=\"colab-df-container\">\n",
              "    <div>\n",
              "<style scoped>\n",
              "    .dataframe tbody tr th:only-of-type {\n",
              "        vertical-align: middle;\n",
              "    }\n",
              "\n",
              "    .dataframe tbody tr th {\n",
              "        vertical-align: top;\n",
              "    }\n",
              "\n",
              "    .dataframe thead th {\n",
              "        text-align: right;\n",
              "    }\n",
              "</style>\n",
              "<table border=\"1\" class=\"dataframe\">\n",
              "  <thead>\n",
              "    <tr style=\"text-align: right;\">\n",
              "      <th></th>\n",
              "      <th>Gender</th>\n",
              "      <th>PurchasedVIP</th>\n",
              "      <th>Income</th>\n",
              "      <th>Children</th>\n",
              "      <th>Age</th>\n",
              "      <th>Attractiveness</th>\n",
              "      <th>Matches</th>\n",
              "    </tr>\n",
              "  </thead>\n",
              "  <tbody>\n",
              "    <tr>\n",
              "      <th>0</th>\n",
              "      <td>0</td>\n",
              "      <td>1</td>\n",
              "      <td>51777</td>\n",
              "      <td>3</td>\n",
              "      <td>47</td>\n",
              "      <td>5</td>\n",
              "      <td>70</td>\n",
              "    </tr>\n",
              "    <tr>\n",
              "      <th>1</th>\n",
              "      <td>1</td>\n",
              "      <td>0</td>\n",
              "      <td>36646</td>\n",
              "      <td>0</td>\n",
              "      <td>42</td>\n",
              "      <td>7</td>\n",
              "      <td>130</td>\n",
              "    </tr>\n",
              "    <tr>\n",
              "      <th>2</th>\n",
              "      <td>0</td>\n",
              "      <td>0</td>\n",
              "      <td>53801</td>\n",
              "      <td>1</td>\n",
              "      <td>25</td>\n",
              "      <td>5</td>\n",
              "      <td>0</td>\n",
              "    </tr>\n",
              "    <tr>\n",
              "      <th>3</th>\n",
              "      <td>0</td>\n",
              "      <td>0</td>\n",
              "      <td>56105</td>\n",
              "      <td>0</td>\n",
              "      <td>35</td>\n",
              "      <td>8</td>\n",
              "      <td>0</td>\n",
              "    </tr>\n",
              "    <tr>\n",
              "      <th>4</th>\n",
              "      <td>0</td>\n",
              "      <td>0</td>\n",
              "      <td>55597</td>\n",
              "      <td>1</td>\n",
              "      <td>36</td>\n",
              "      <td>6</td>\n",
              "      <td>0</td>\n",
              "    </tr>\n",
              "  </tbody>\n",
              "</table>\n",
              "</div>\n",
              "    <div class=\"colab-df-buttons\">\n",
              "\n",
              "  <div class=\"colab-df-container\">\n",
              "    <button class=\"colab-df-convert\" onclick=\"convertToInteractive('df-e381c727-7d2a-4b0b-a285-e6a14da16577')\"\n",
              "            title=\"Convert this dataframe to an interactive table.\"\n",
              "            style=\"display:none;\">\n",
              "\n",
              "  <svg xmlns=\"http://www.w3.org/2000/svg\" height=\"24px\" viewBox=\"0 -960 960 960\">\n",
              "    <path d=\"M120-120v-720h720v720H120Zm60-500h600v-160H180v160Zm220 220h160v-160H400v160Zm0 220h160v-160H400v160ZM180-400h160v-160H180v160Zm440 0h160v-160H620v160ZM180-180h160v-160H180v160Zm440 0h160v-160H620v160Z\"/>\n",
              "  </svg>\n",
              "    </button>\n",
              "\n",
              "  <style>\n",
              "    .colab-df-container {\n",
              "      display:flex;\n",
              "      gap: 12px;\n",
              "    }\n",
              "\n",
              "    .colab-df-convert {\n",
              "      background-color: #E8F0FE;\n",
              "      border: none;\n",
              "      border-radius: 50%;\n",
              "      cursor: pointer;\n",
              "      display: none;\n",
              "      fill: #1967D2;\n",
              "      height: 32px;\n",
              "      padding: 0 0 0 0;\n",
              "      width: 32px;\n",
              "    }\n",
              "\n",
              "    .colab-df-convert:hover {\n",
              "      background-color: #E2EBFA;\n",
              "      box-shadow: 0px 1px 2px rgba(60, 64, 67, 0.3), 0px 1px 3px 1px rgba(60, 64, 67, 0.15);\n",
              "      fill: #174EA6;\n",
              "    }\n",
              "\n",
              "    .colab-df-buttons div {\n",
              "      margin-bottom: 4px;\n",
              "    }\n",
              "\n",
              "    [theme=dark] .colab-df-convert {\n",
              "      background-color: #3B4455;\n",
              "      fill: #D2E3FC;\n",
              "    }\n",
              "\n",
              "    [theme=dark] .colab-df-convert:hover {\n",
              "      background-color: #434B5C;\n",
              "      box-shadow: 0px 1px 3px 1px rgba(0, 0, 0, 0.15);\n",
              "      filter: drop-shadow(0px 1px 2px rgba(0, 0, 0, 0.3));\n",
              "      fill: #FFFFFF;\n",
              "    }\n",
              "  </style>\n",
              "\n",
              "    <script>\n",
              "      const buttonEl =\n",
              "        document.querySelector('#df-e381c727-7d2a-4b0b-a285-e6a14da16577 button.colab-df-convert');\n",
              "      buttonEl.style.display =\n",
              "        google.colab.kernel.accessAllowed ? 'block' : 'none';\n",
              "\n",
              "      async function convertToInteractive(key) {\n",
              "        const element = document.querySelector('#df-e381c727-7d2a-4b0b-a285-e6a14da16577');\n",
              "        const dataTable =\n",
              "          await google.colab.kernel.invokeFunction('convertToInteractive',\n",
              "                                                    [key], {});\n",
              "        if (!dataTable) return;\n",
              "\n",
              "        const docLinkHtml = 'Like what you see? Visit the ' +\n",
              "          '<a target=\"_blank\" href=https://colab.research.google.com/notebooks/data_table.ipynb>data table notebook</a>'\n",
              "          + ' to learn more about interactive tables.';\n",
              "        element.innerHTML = '';\n",
              "        dataTable['output_type'] = 'display_data';\n",
              "        await google.colab.output.renderOutput(dataTable, element);\n",
              "        const docLink = document.createElement('div');\n",
              "        docLink.innerHTML = docLinkHtml;\n",
              "        element.appendChild(docLink);\n",
              "      }\n",
              "    </script>\n",
              "  </div>\n",
              "\n",
              "\n",
              "    <div id=\"df-c34572ae-2801-464f-8ce0-d28cc8ea166b\">\n",
              "      <button class=\"colab-df-quickchart\" onclick=\"quickchart('df-c34572ae-2801-464f-8ce0-d28cc8ea166b')\"\n",
              "                title=\"Suggest charts\"\n",
              "                style=\"display:none;\">\n",
              "\n",
              "<svg xmlns=\"http://www.w3.org/2000/svg\" height=\"24px\"viewBox=\"0 0 24 24\"\n",
              "     width=\"24px\">\n",
              "    <g>\n",
              "        <path d=\"M19 3H5c-1.1 0-2 .9-2 2v14c0 1.1.9 2 2 2h14c1.1 0 2-.9 2-2V5c0-1.1-.9-2-2-2zM9 17H7v-7h2v7zm4 0h-2V7h2v10zm4 0h-2v-4h2v4z\"/>\n",
              "    </g>\n",
              "</svg>\n",
              "      </button>\n",
              "\n",
              "<style>\n",
              "  .colab-df-quickchart {\n",
              "      --bg-color: #E8F0FE;\n",
              "      --fill-color: #1967D2;\n",
              "      --hover-bg-color: #E2EBFA;\n",
              "      --hover-fill-color: #174EA6;\n",
              "      --disabled-fill-color: #AAA;\n",
              "      --disabled-bg-color: #DDD;\n",
              "  }\n",
              "\n",
              "  [theme=dark] .colab-df-quickchart {\n",
              "      --bg-color: #3B4455;\n",
              "      --fill-color: #D2E3FC;\n",
              "      --hover-bg-color: #434B5C;\n",
              "      --hover-fill-color: #FFFFFF;\n",
              "      --disabled-bg-color: #3B4455;\n",
              "      --disabled-fill-color: #666;\n",
              "  }\n",
              "\n",
              "  .colab-df-quickchart {\n",
              "    background-color: var(--bg-color);\n",
              "    border: none;\n",
              "    border-radius: 50%;\n",
              "    cursor: pointer;\n",
              "    display: none;\n",
              "    fill: var(--fill-color);\n",
              "    height: 32px;\n",
              "    padding: 0;\n",
              "    width: 32px;\n",
              "  }\n",
              "\n",
              "  .colab-df-quickchart:hover {\n",
              "    background-color: var(--hover-bg-color);\n",
              "    box-shadow: 0 1px 2px rgba(60, 64, 67, 0.3), 0 1px 3px 1px rgba(60, 64, 67, 0.15);\n",
              "    fill: var(--button-hover-fill-color);\n",
              "  }\n",
              "\n",
              "  .colab-df-quickchart-complete:disabled,\n",
              "  .colab-df-quickchart-complete:disabled:hover {\n",
              "    background-color: var(--disabled-bg-color);\n",
              "    fill: var(--disabled-fill-color);\n",
              "    box-shadow: none;\n",
              "  }\n",
              "\n",
              "  .colab-df-spinner {\n",
              "    border: 2px solid var(--fill-color);\n",
              "    border-color: transparent;\n",
              "    border-bottom-color: var(--fill-color);\n",
              "    animation:\n",
              "      spin 1s steps(1) infinite;\n",
              "  }\n",
              "\n",
              "  @keyframes spin {\n",
              "    0% {\n",
              "      border-color: transparent;\n",
              "      border-bottom-color: var(--fill-color);\n",
              "      border-left-color: var(--fill-color);\n",
              "    }\n",
              "    20% {\n",
              "      border-color: transparent;\n",
              "      border-left-color: var(--fill-color);\n",
              "      border-top-color: var(--fill-color);\n",
              "    }\n",
              "    30% {\n",
              "      border-color: transparent;\n",
              "      border-left-color: var(--fill-color);\n",
              "      border-top-color: var(--fill-color);\n",
              "      border-right-color: var(--fill-color);\n",
              "    }\n",
              "    40% {\n",
              "      border-color: transparent;\n",
              "      border-right-color: var(--fill-color);\n",
              "      border-top-color: var(--fill-color);\n",
              "    }\n",
              "    60% {\n",
              "      border-color: transparent;\n",
              "      border-right-color: var(--fill-color);\n",
              "    }\n",
              "    80% {\n",
              "      border-color: transparent;\n",
              "      border-right-color: var(--fill-color);\n",
              "      border-bottom-color: var(--fill-color);\n",
              "    }\n",
              "    90% {\n",
              "      border-color: transparent;\n",
              "      border-bottom-color: var(--fill-color);\n",
              "    }\n",
              "  }\n",
              "</style>\n",
              "\n",
              "      <script>\n",
              "        async function quickchart(key) {\n",
              "          const quickchartButtonEl =\n",
              "            document.querySelector('#' + key + ' button');\n",
              "          quickchartButtonEl.disabled = true;  // To prevent multiple clicks.\n",
              "          quickchartButtonEl.classList.add('colab-df-spinner');\n",
              "          try {\n",
              "            const charts = await google.colab.kernel.invokeFunction(\n",
              "                'suggestCharts', [key], {});\n",
              "          } catch (error) {\n",
              "            console.error('Error during call to suggestCharts:', error);\n",
              "          }\n",
              "          quickchartButtonEl.classList.remove('colab-df-spinner');\n",
              "          quickchartButtonEl.classList.add('colab-df-quickchart-complete');\n",
              "        }\n",
              "        (() => {\n",
              "          let quickchartButtonEl =\n",
              "            document.querySelector('#df-c34572ae-2801-464f-8ce0-d28cc8ea166b button');\n",
              "          quickchartButtonEl.style.display =\n",
              "            google.colab.kernel.accessAllowed ? 'block' : 'none';\n",
              "        })();\n",
              "      </script>\n",
              "    </div>\n",
              "\n",
              "    </div>\n",
              "  </div>\n"
            ],
            "application/vnd.google.colaboratory.intrinsic+json": {
              "type": "dataframe",
              "variable_name": "df",
              "summary": "{\n  \"name\": \"df\",\n  \"rows\": 1000,\n  \"fields\": [\n    {\n      \"column\": \"Gender\",\n      \"properties\": {\n        \"dtype\": \"number\",\n        \"std\": 0,\n        \"min\": 0,\n        \"max\": 1,\n        \"num_unique_values\": 2,\n        \"samples\": [\n          1,\n          0\n        ],\n        \"semantic_type\": \"\",\n        \"description\": \"\"\n      }\n    },\n    {\n      \"column\": \"PurchasedVIP\",\n      \"properties\": {\n        \"dtype\": \"number\",\n        \"std\": 0,\n        \"min\": 0,\n        \"max\": 1,\n        \"num_unique_values\": 2,\n        \"samples\": [\n          0,\n          1\n        ],\n        \"semantic_type\": \"\",\n        \"description\": \"\"\n      }\n    },\n    {\n      \"column\": \"Income\",\n      \"properties\": {\n        \"dtype\": \"number\",\n        \"std\": 9889,\n        \"min\": 20786,\n        \"max\": 81931,\n        \"num_unique_values\": 989,\n        \"samples\": [\n          39983,\n          58700\n        ],\n        \"semantic_type\": \"\",\n        \"description\": \"\"\n      }\n    },\n    {\n      \"column\": \"Children\",\n      \"properties\": {\n        \"dtype\": \"number\",\n        \"std\": 0,\n        \"min\": 0,\n        \"max\": 3,\n        \"num_unique_values\": 4,\n        \"samples\": [\n          0,\n          2\n        ],\n        \"semantic_type\": \"\",\n        \"description\": \"\"\n      }\n    },\n    {\n      \"column\": \"Age\",\n      \"properties\": {\n        \"dtype\": \"number\",\n        \"std\": 9,\n        \"min\": 18,\n        \"max\": 49,\n        \"num_unique_values\": 32,\n        \"samples\": [\n          24,\n          34\n        ],\n        \"semantic_type\": \"\",\n        \"description\": \"\"\n      }\n    },\n    {\n      \"column\": \"Attractiveness\",\n      \"properties\": {\n        \"dtype\": \"number\",\n        \"std\": 2,\n        \"min\": 1,\n        \"max\": 10,\n        \"num_unique_values\": 10,\n        \"samples\": [\n          10,\n          7\n        ],\n        \"semantic_type\": \"\",\n        \"description\": \"\"\n      }\n    },\n    {\n      \"column\": \"Matches\",\n      \"properties\": {\n        \"dtype\": \"number\",\n        \"std\": 52,\n        \"min\": 0,\n        \"max\": 160,\n        \"num_unique_values\": 11,\n        \"samples\": [\n          120,\n          70\n        ],\n        \"semantic_type\": \"\",\n        \"description\": \"\"\n      }\n    }\n  ]\n}"
            }
          },
          "metadata": {},
          "execution_count": 18
        }
      ]
    },
    {
      "cell_type": "code",
      "source": [
        "numeric_col=[\"Income\",\"Age\",\"Attractiveness\",\"Matches\"]"
      ],
      "metadata": {
        "id": "tYLl3tfD0MPu"
      },
      "execution_count": 19,
      "outputs": []
    },
    {
      "cell_type": "code",
      "source": [
        "df[numeric_col].iplot(kind='histogram',subplots=True)"
      ],
      "metadata": {
        "id": "XvQzXd2P0MPu",
        "outputId": "765aa9bb-4cf3-4f16-970f-618e224fd57c",
        "colab": {
          "base_uri": "https://localhost:8080/",
          "height": 1000
        }
      },
      "execution_count": 20,
      "outputs": [
        {
          "output_type": "error",
          "ename": "ValueError",
          "evalue": "\n    Invalid value of type 'builtins.str' received for the 'color' property of histogram.marker\n        Received value: 'rgba(255, 153, 51, np.float64(1.0))'\n\n    The 'color' property is a color and may be specified as:\n      - A hex string (e.g. '#ff0000')\n      - An rgb/rgba string (e.g. 'rgb(255,0,0)')\n      - An hsl/hsla string (e.g. 'hsl(0,100%,50%)')\n      - An hsv/hsva string (e.g. 'hsv(0,100%,100%)')\n      - A named CSS color:\n            aliceblue, antiquewhite, aqua, aquamarine, azure,\n            beige, bisque, black, blanchedalmond, blue,\n            blueviolet, brown, burlywood, cadetblue,\n            chartreuse, chocolate, coral, cornflowerblue,\n            cornsilk, crimson, cyan, darkblue, darkcyan,\n            darkgoldenrod, darkgray, darkgrey, darkgreen,\n            darkkhaki, darkmagenta, darkolivegreen, darkorange,\n            darkorchid, darkred, darksalmon, darkseagreen,\n            darkslateblue, darkslategray, darkslategrey,\n            darkturquoise, darkviolet, deeppink, deepskyblue,\n            dimgray, dimgrey, dodgerblue, firebrick,\n            floralwhite, forestgreen, fuchsia, gainsboro,\n            ghostwhite, gold, goldenrod, gray, grey, green,\n            greenyellow, honeydew, hotpink, indianred, indigo,\n            ivory, khaki, lavender, lavenderblush, lawngreen,\n            lemonchiffon, lightblue, lightcoral, lightcyan,\n            lightgoldenrodyellow, lightgray, lightgrey,\n            lightgreen, lightpink, lightsalmon, lightseagreen,\n            lightskyblue, lightslategray, lightslategrey,\n            lightsteelblue, lightyellow, lime, limegreen,\n            linen, magenta, maroon, mediumaquamarine,\n            mediumblue, mediumorchid, mediumpurple,\n            mediumseagreen, mediumslateblue, mediumspringgreen,\n            mediumturquoise, mediumvioletred, midnightblue,\n            mintcream, mistyrose, moccasin, navajowhite, navy,\n            oldlace, olive, olivedrab, orange, orangered,\n            orchid, palegoldenrod, palegreen, paleturquoise,\n            palevioletred, papayawhip, peachpuff, peru, pink,\n            plum, powderblue, purple, red, rosybrown,\n            royalblue, rebeccapurple, saddlebrown, salmon,\n            sandybrown, seagreen, seashell, sienna, silver,\n            skyblue, slateblue, slategray, slategrey, snow,\n            springgreen, steelblue, tan, teal, thistle, tomato,\n            turquoise, violet, wheat, white, whitesmoke,\n            yellow, yellowgreen\n      - A number that will be interpreted as a color\n        according to histogram.marker.colorscale\n      - A list or array of any of the above",
          "traceback": [
            "\u001b[0;31m---------------------------------------------------------------------------\u001b[0m",
            "\u001b[0;31mValueError\u001b[0m                                Traceback (most recent call last)",
            "\u001b[0;32m/tmp/ipython-input-20-1238748304.py\u001b[0m in \u001b[0;36m<cell line: 0>\u001b[0;34m()\u001b[0m\n\u001b[0;32m----> 1\u001b[0;31m \u001b[0mdf\u001b[0m\u001b[0;34m[\u001b[0m\u001b[0mnumeric_col\u001b[0m\u001b[0;34m]\u001b[0m\u001b[0;34m.\u001b[0m\u001b[0miplot\u001b[0m\u001b[0;34m(\u001b[0m\u001b[0mkind\u001b[0m\u001b[0;34m=\u001b[0m\u001b[0;34m'histogram'\u001b[0m\u001b[0;34m,\u001b[0m\u001b[0msubplots\u001b[0m\u001b[0;34m=\u001b[0m\u001b[0;32mTrue\u001b[0m\u001b[0;34m)\u001b[0m\u001b[0;34m\u001b[0m\u001b[0;34m\u001b[0m\u001b[0m\n\u001b[0m",
            "\u001b[0;32m/usr/local/lib/python3.11/dist-packages/cufflinks/plotlytools.py\u001b[0m in \u001b[0;36m_iplot\u001b[0;34m(self, kind, data, layout, filename, sharing, title, xTitle, yTitle, zTitle, theme, colors, colorscale, fill, width, dash, mode, interpolation, symbol, size, barmode, sortbars, bargap, bargroupgap, bins, histnorm, histfunc, orientation, boxpoints, annotations, keys, bestfit, bestfit_colors, mean, mean_colors, categories, x, y, z, text, gridcolor, zerolinecolor, margin, labels, values, secondary_y, secondary_y_title, subplots, shape, error_x, error_y, error_type, locations, lon, lat, asFrame, asDates, asFigure, asImage, dimensions, asPlot, asUrl, online, **kwargs)\u001b[0m\n\u001b[1;32m    928\u001b[0m                                                         \u001b[0m__\u001b[0m\u001b[0;34m[\u001b[0m\u001b[0;34m'y'\u001b[0m\u001b[0;34m]\u001b[0m\u001b[0;34m=\u001b[0m\u001b[0m__\u001b[0m\u001b[0;34m[\u001b[0m\u001b[0;34m'x'\u001b[0m\u001b[0;34m]\u001b[0m\u001b[0;34m\u001b[0m\u001b[0;34m\u001b[0m\u001b[0m\n\u001b[1;32m    929\u001b[0m                                                         \u001b[0;32mdel\u001b[0m \u001b[0m__\u001b[0m\u001b[0;34m[\u001b[0m\u001b[0;34m'x'\u001b[0m\u001b[0;34m]\u001b[0m\u001b[0;34m\u001b[0m\u001b[0;34m\u001b[0m\u001b[0m\n\u001b[0;32m--> 930\u001b[0;31m                                                 \u001b[0m__\u001b[0m \u001b[0;34m=\u001b[0m \u001b[0mHistogram\u001b[0m\u001b[0;34m(\u001b[0m\u001b[0m__\u001b[0m\u001b[0;34m)\u001b[0m\u001b[0;34m\u001b[0m\u001b[0;34m\u001b[0m\u001b[0m\n\u001b[0m\u001b[1;32m    931\u001b[0m                                                 \u001b[0;32mif\u001b[0m \u001b[0mbins\u001b[0m\u001b[0;34m:\u001b[0m\u001b[0;34m\u001b[0m\u001b[0;34m\u001b[0m\u001b[0m\n\u001b[1;32m    932\u001b[0m                                                         \u001b[0;32mif\u001b[0m \u001b[0mtype\u001b[0m\u001b[0;34m(\u001b[0m\u001b[0mbins\u001b[0m\u001b[0;34m)\u001b[0m \u001b[0;32min\u001b[0m \u001b[0;34m(\u001b[0m\u001b[0mtuple\u001b[0m\u001b[0;34m,\u001b[0m\u001b[0mlist\u001b[0m\u001b[0;34m)\u001b[0m\u001b[0;34m:\u001b[0m\u001b[0;34m\u001b[0m\u001b[0;34m\u001b[0m\u001b[0m\n",
            "\u001b[0;32m/usr/local/lib/python3.11/dist-packages/plotly/graph_objs/_histogram.py\u001b[0m in \u001b[0;36m__init__\u001b[0;34m(self, arg, alignmentgroup, autobinx, autobiny, bingroup, cliponaxis, constraintext, cumulative, customdata, customdatasrc, error_x, error_y, histfunc, histnorm, hoverinfo, hoverinfosrc, hoverlabel, hovertemplate, hovertemplatesrc, hovertext, hovertextsrc, ids, idssrc, insidetextanchor, insidetextfont, legend, legendgroup, legendgrouptitle, legendrank, legendwidth, marker, meta, metasrc, name, nbinsx, nbinsy, offsetgroup, opacity, orientation, outsidetextfont, selected, selectedpoints, showlegend, stream, text, textangle, textfont, textposition, textsrc, texttemplate, uid, uirevision, unselected, visible, x, xaxis, xbins, xcalendar, xhoverformat, xsrc, y, yaxis, ybins, ycalendar, yhoverformat, ysrc, zorder, **kwargs)\u001b[0m\n\u001b[1;32m   3177\u001b[0m         \u001b[0m_v\u001b[0m \u001b[0;34m=\u001b[0m \u001b[0mmarker\u001b[0m \u001b[0;32mif\u001b[0m \u001b[0mmarker\u001b[0m \u001b[0;32mis\u001b[0m \u001b[0;32mnot\u001b[0m \u001b[0;32mNone\u001b[0m \u001b[0;32melse\u001b[0m \u001b[0m_v\u001b[0m\u001b[0;34m\u001b[0m\u001b[0;34m\u001b[0m\u001b[0m\n\u001b[1;32m   3178\u001b[0m         \u001b[0;32mif\u001b[0m \u001b[0m_v\u001b[0m \u001b[0;32mis\u001b[0m \u001b[0;32mnot\u001b[0m \u001b[0;32mNone\u001b[0m\u001b[0;34m:\u001b[0m\u001b[0;34m\u001b[0m\u001b[0;34m\u001b[0m\u001b[0m\n\u001b[0;32m-> 3179\u001b[0;31m             \u001b[0mself\u001b[0m\u001b[0;34m[\u001b[0m\u001b[0;34m\"marker\"\u001b[0m\u001b[0;34m]\u001b[0m \u001b[0;34m=\u001b[0m \u001b[0m_v\u001b[0m\u001b[0;34m\u001b[0m\u001b[0;34m\u001b[0m\u001b[0m\n\u001b[0m\u001b[1;32m   3180\u001b[0m         \u001b[0m_v\u001b[0m \u001b[0;34m=\u001b[0m \u001b[0marg\u001b[0m\u001b[0;34m.\u001b[0m\u001b[0mpop\u001b[0m\u001b[0;34m(\u001b[0m\u001b[0;34m\"meta\"\u001b[0m\u001b[0;34m,\u001b[0m \u001b[0;32mNone\u001b[0m\u001b[0;34m)\u001b[0m\u001b[0;34m\u001b[0m\u001b[0;34m\u001b[0m\u001b[0m\n\u001b[1;32m   3181\u001b[0m         \u001b[0m_v\u001b[0m \u001b[0;34m=\u001b[0m \u001b[0mmeta\u001b[0m \u001b[0;32mif\u001b[0m \u001b[0mmeta\u001b[0m \u001b[0;32mis\u001b[0m \u001b[0;32mnot\u001b[0m \u001b[0;32mNone\u001b[0m \u001b[0;32melse\u001b[0m \u001b[0m_v\u001b[0m\u001b[0;34m\u001b[0m\u001b[0;34m\u001b[0m\u001b[0m\n",
            "\u001b[0;32m/usr/local/lib/python3.11/dist-packages/plotly/basedatatypes.py\u001b[0m in \u001b[0;36m__setitem__\u001b[0;34m(self, prop, value)\u001b[0m\n\u001b[1;32m   4858\u001b[0m                 \u001b[0;31m# ### Handle compound property ###\u001b[0m\u001b[0;34m\u001b[0m\u001b[0;34m\u001b[0m\u001b[0m\n\u001b[1;32m   4859\u001b[0m                 \u001b[0;32mif\u001b[0m \u001b[0misinstance\u001b[0m\u001b[0;34m(\u001b[0m\u001b[0mvalidator\u001b[0m\u001b[0;34m,\u001b[0m \u001b[0mCompoundValidator\u001b[0m\u001b[0;34m)\u001b[0m\u001b[0;34m:\u001b[0m\u001b[0;34m\u001b[0m\u001b[0;34m\u001b[0m\u001b[0m\n\u001b[0;32m-> 4860\u001b[0;31m                     \u001b[0mself\u001b[0m\u001b[0;34m.\u001b[0m\u001b[0m_set_compound_prop\u001b[0m\u001b[0;34m(\u001b[0m\u001b[0mprop\u001b[0m\u001b[0;34m,\u001b[0m \u001b[0mvalue\u001b[0m\u001b[0;34m)\u001b[0m\u001b[0;34m\u001b[0m\u001b[0;34m\u001b[0m\u001b[0m\n\u001b[0m\u001b[1;32m   4861\u001b[0m \u001b[0;34m\u001b[0m\u001b[0m\n\u001b[1;32m   4862\u001b[0m                 \u001b[0;31m# ### Handle compound array property ###\u001b[0m\u001b[0;34m\u001b[0m\u001b[0;34m\u001b[0m\u001b[0m\n",
            "\u001b[0;32m/usr/local/lib/python3.11/dist-packages/plotly/basedatatypes.py\u001b[0m in \u001b[0;36m_set_compound_prop\u001b[0;34m(self, prop, val)\u001b[0m\n\u001b[1;32m   5269\u001b[0m         \u001b[0;31m# ------------\u001b[0m\u001b[0;34m\u001b[0m\u001b[0;34m\u001b[0m\u001b[0m\n\u001b[1;32m   5270\u001b[0m         \u001b[0mvalidator\u001b[0m \u001b[0;34m=\u001b[0m \u001b[0mself\u001b[0m\u001b[0;34m.\u001b[0m\u001b[0m_get_validator\u001b[0m\u001b[0;34m(\u001b[0m\u001b[0mprop\u001b[0m\u001b[0;34m)\u001b[0m\u001b[0;34m\u001b[0m\u001b[0;34m\u001b[0m\u001b[0m\n\u001b[0;32m-> 5271\u001b[0;31m         \u001b[0mval\u001b[0m \u001b[0;34m=\u001b[0m \u001b[0mvalidator\u001b[0m\u001b[0;34m.\u001b[0m\u001b[0mvalidate_coerce\u001b[0m\u001b[0;34m(\u001b[0m\u001b[0mval\u001b[0m\u001b[0;34m,\u001b[0m \u001b[0mskip_invalid\u001b[0m\u001b[0;34m=\u001b[0m\u001b[0mself\u001b[0m\u001b[0;34m.\u001b[0m\u001b[0m_skip_invalid\u001b[0m\u001b[0;34m)\u001b[0m\u001b[0;34m\u001b[0m\u001b[0;34m\u001b[0m\u001b[0m\n\u001b[0m\u001b[1;32m   5272\u001b[0m \u001b[0;34m\u001b[0m\u001b[0m\n\u001b[1;32m   5273\u001b[0m         \u001b[0;31m# Save deep copies of current and new states\u001b[0m\u001b[0;34m\u001b[0m\u001b[0;34m\u001b[0m\u001b[0m\n",
            "\u001b[0;32m/usr/local/lib/python3.11/dist-packages/_plotly_utils/basevalidators.py\u001b[0m in \u001b[0;36mvalidate_coerce\u001b[0;34m(self, v, skip_invalid, _validate)\u001b[0m\n\u001b[1;32m   2510\u001b[0m \u001b[0;34m\u001b[0m\u001b[0m\n\u001b[1;32m   2511\u001b[0m         \u001b[0;32melif\u001b[0m \u001b[0misinstance\u001b[0m\u001b[0;34m(\u001b[0m\u001b[0mv\u001b[0m\u001b[0;34m,\u001b[0m \u001b[0mdict\u001b[0m\u001b[0;34m)\u001b[0m\u001b[0;34m:\u001b[0m\u001b[0;34m\u001b[0m\u001b[0;34m\u001b[0m\u001b[0m\n\u001b[0;32m-> 2512\u001b[0;31m             \u001b[0mv\u001b[0m \u001b[0;34m=\u001b[0m \u001b[0mself\u001b[0m\u001b[0;34m.\u001b[0m\u001b[0mdata_class\u001b[0m\u001b[0;34m(\u001b[0m\u001b[0mv\u001b[0m\u001b[0;34m,\u001b[0m \u001b[0mskip_invalid\u001b[0m\u001b[0;34m=\u001b[0m\u001b[0mskip_invalid\u001b[0m\u001b[0;34m,\u001b[0m \u001b[0m_validate\u001b[0m\u001b[0;34m=\u001b[0m\u001b[0m_validate\u001b[0m\u001b[0;34m)\u001b[0m\u001b[0;34m\u001b[0m\u001b[0;34m\u001b[0m\u001b[0m\n\u001b[0m\u001b[1;32m   2513\u001b[0m \u001b[0;34m\u001b[0m\u001b[0m\n\u001b[1;32m   2514\u001b[0m         \u001b[0;32melif\u001b[0m \u001b[0misinstance\u001b[0m\u001b[0;34m(\u001b[0m\u001b[0mv\u001b[0m\u001b[0;34m,\u001b[0m \u001b[0mself\u001b[0m\u001b[0;34m.\u001b[0m\u001b[0mdata_class\u001b[0m\u001b[0;34m)\u001b[0m\u001b[0;34m:\u001b[0m\u001b[0;34m\u001b[0m\u001b[0;34m\u001b[0m\u001b[0m\n",
            "\u001b[0;32m/usr/local/lib/python3.11/dist-packages/plotly/graph_objs/histogram/_marker.py\u001b[0m in \u001b[0;36m__init__\u001b[0;34m(self, arg, autocolorscale, cauto, cmax, cmid, cmin, color, coloraxis, colorbar, colorscale, colorsrc, cornerradius, line, opacity, opacitysrc, pattern, reversescale, showscale, **kwargs)\u001b[0m\n\u001b[1;32m   1194\u001b[0m         \u001b[0m_v\u001b[0m \u001b[0;34m=\u001b[0m \u001b[0mcolor\u001b[0m \u001b[0;32mif\u001b[0m \u001b[0mcolor\u001b[0m \u001b[0;32mis\u001b[0m \u001b[0;32mnot\u001b[0m \u001b[0;32mNone\u001b[0m \u001b[0;32melse\u001b[0m \u001b[0m_v\u001b[0m\u001b[0;34m\u001b[0m\u001b[0;34m\u001b[0m\u001b[0m\n\u001b[1;32m   1195\u001b[0m         \u001b[0;32mif\u001b[0m \u001b[0m_v\u001b[0m \u001b[0;32mis\u001b[0m \u001b[0;32mnot\u001b[0m \u001b[0;32mNone\u001b[0m\u001b[0;34m:\u001b[0m\u001b[0;34m\u001b[0m\u001b[0;34m\u001b[0m\u001b[0m\n\u001b[0;32m-> 1196\u001b[0;31m             \u001b[0mself\u001b[0m\u001b[0;34m[\u001b[0m\u001b[0;34m\"color\"\u001b[0m\u001b[0;34m]\u001b[0m \u001b[0;34m=\u001b[0m \u001b[0m_v\u001b[0m\u001b[0;34m\u001b[0m\u001b[0;34m\u001b[0m\u001b[0m\n\u001b[0m\u001b[1;32m   1197\u001b[0m         \u001b[0m_v\u001b[0m \u001b[0;34m=\u001b[0m \u001b[0marg\u001b[0m\u001b[0;34m.\u001b[0m\u001b[0mpop\u001b[0m\u001b[0;34m(\u001b[0m\u001b[0;34m\"coloraxis\"\u001b[0m\u001b[0;34m,\u001b[0m \u001b[0;32mNone\u001b[0m\u001b[0;34m)\u001b[0m\u001b[0;34m\u001b[0m\u001b[0;34m\u001b[0m\u001b[0m\n\u001b[1;32m   1198\u001b[0m         \u001b[0m_v\u001b[0m \u001b[0;34m=\u001b[0m \u001b[0mcoloraxis\u001b[0m \u001b[0;32mif\u001b[0m \u001b[0mcoloraxis\u001b[0m \u001b[0;32mis\u001b[0m \u001b[0;32mnot\u001b[0m \u001b[0;32mNone\u001b[0m \u001b[0;32melse\u001b[0m \u001b[0m_v\u001b[0m\u001b[0;34m\u001b[0m\u001b[0;34m\u001b[0m\u001b[0m\n",
            "\u001b[0;32m/usr/local/lib/python3.11/dist-packages/plotly/basedatatypes.py\u001b[0m in \u001b[0;36m__setitem__\u001b[0;34m(self, prop, value)\u001b[0m\n\u001b[1;32m   4866\u001b[0m                 \u001b[0;31m# ### Handle simple property ###\u001b[0m\u001b[0;34m\u001b[0m\u001b[0;34m\u001b[0m\u001b[0m\n\u001b[1;32m   4867\u001b[0m                 \u001b[0;32melse\u001b[0m\u001b[0;34m:\u001b[0m\u001b[0;34m\u001b[0m\u001b[0;34m\u001b[0m\u001b[0m\n\u001b[0;32m-> 4868\u001b[0;31m                     \u001b[0mself\u001b[0m\u001b[0;34m.\u001b[0m\u001b[0m_set_prop\u001b[0m\u001b[0;34m(\u001b[0m\u001b[0mprop\u001b[0m\u001b[0;34m,\u001b[0m \u001b[0mvalue\u001b[0m\u001b[0;34m)\u001b[0m\u001b[0;34m\u001b[0m\u001b[0;34m\u001b[0m\u001b[0m\n\u001b[0m\u001b[1;32m   4869\u001b[0m             \u001b[0;32melse\u001b[0m\u001b[0;34m:\u001b[0m\u001b[0;34m\u001b[0m\u001b[0;34m\u001b[0m\u001b[0m\n\u001b[1;32m   4870\u001b[0m                 \u001b[0;31m# Make sure properties dict is initialized\u001b[0m\u001b[0;34m\u001b[0m\u001b[0;34m\u001b[0m\u001b[0m\n",
            "\u001b[0;32m/usr/local/lib/python3.11/dist-packages/plotly/basedatatypes.py\u001b[0m in \u001b[0;36m_set_prop\u001b[0;34m(self, prop, val)\u001b[0m\n\u001b[1;32m   5210\u001b[0m                 \u001b[0;32mreturn\u001b[0m\u001b[0;34m\u001b[0m\u001b[0;34m\u001b[0m\u001b[0m\n\u001b[1;32m   5211\u001b[0m             \u001b[0;32melse\u001b[0m\u001b[0;34m:\u001b[0m\u001b[0;34m\u001b[0m\u001b[0;34m\u001b[0m\u001b[0m\n\u001b[0;32m-> 5212\u001b[0;31m                 \u001b[0;32mraise\u001b[0m \u001b[0merr\u001b[0m\u001b[0;34m\u001b[0m\u001b[0;34m\u001b[0m\u001b[0m\n\u001b[0m\u001b[1;32m   5213\u001b[0m \u001b[0;34m\u001b[0m\u001b[0m\n\u001b[1;32m   5214\u001b[0m         \u001b[0;31m# val is None\u001b[0m\u001b[0;34m\u001b[0m\u001b[0;34m\u001b[0m\u001b[0m\n",
            "\u001b[0;32m/usr/local/lib/python3.11/dist-packages/plotly/basedatatypes.py\u001b[0m in \u001b[0;36m_set_prop\u001b[0;34m(self, prop, val)\u001b[0m\n\u001b[1;32m   5205\u001b[0m \u001b[0;34m\u001b[0m\u001b[0m\n\u001b[1;32m   5206\u001b[0m         \u001b[0;32mtry\u001b[0m\u001b[0;34m:\u001b[0m\u001b[0;34m\u001b[0m\u001b[0;34m\u001b[0m\u001b[0m\n\u001b[0;32m-> 5207\u001b[0;31m             \u001b[0mval\u001b[0m \u001b[0;34m=\u001b[0m \u001b[0mvalidator\u001b[0m\u001b[0;34m.\u001b[0m\u001b[0mvalidate_coerce\u001b[0m\u001b[0;34m(\u001b[0m\u001b[0mval\u001b[0m\u001b[0;34m)\u001b[0m\u001b[0;34m\u001b[0m\u001b[0;34m\u001b[0m\u001b[0m\n\u001b[0m\u001b[1;32m   5208\u001b[0m         \u001b[0;32mexcept\u001b[0m \u001b[0mValueError\u001b[0m \u001b[0;32mas\u001b[0m \u001b[0merr\u001b[0m\u001b[0;34m:\u001b[0m\u001b[0;34m\u001b[0m\u001b[0;34m\u001b[0m\u001b[0m\n\u001b[1;32m   5209\u001b[0m             \u001b[0;32mif\u001b[0m \u001b[0mself\u001b[0m\u001b[0;34m.\u001b[0m\u001b[0m_skip_invalid\u001b[0m\u001b[0;34m:\u001b[0m\u001b[0;34m\u001b[0m\u001b[0;34m\u001b[0m\u001b[0m\n",
            "\u001b[0;32m/usr/local/lib/python3.11/dist-packages/_plotly_utils/basevalidators.py\u001b[0m in \u001b[0;36mvalidate_coerce\u001b[0;34m(self, v, should_raise)\u001b[0m\n\u001b[1;32m   1409\u001b[0m             \u001b[0mvalidated_v\u001b[0m \u001b[0;34m=\u001b[0m \u001b[0mself\u001b[0m\u001b[0;34m.\u001b[0m\u001b[0mvc_scalar\u001b[0m\u001b[0;34m(\u001b[0m\u001b[0mv\u001b[0m\u001b[0;34m)\u001b[0m\u001b[0;34m\u001b[0m\u001b[0;34m\u001b[0m\u001b[0m\n\u001b[1;32m   1410\u001b[0m             \u001b[0;32mif\u001b[0m \u001b[0mvalidated_v\u001b[0m \u001b[0;32mis\u001b[0m \u001b[0;32mNone\u001b[0m \u001b[0;32mand\u001b[0m \u001b[0mshould_raise\u001b[0m\u001b[0;34m:\u001b[0m\u001b[0;34m\u001b[0m\u001b[0;34m\u001b[0m\u001b[0m\n\u001b[0;32m-> 1411\u001b[0;31m                 \u001b[0mself\u001b[0m\u001b[0;34m.\u001b[0m\u001b[0mraise_invalid_val\u001b[0m\u001b[0;34m(\u001b[0m\u001b[0mv\u001b[0m\u001b[0;34m)\u001b[0m\u001b[0;34m\u001b[0m\u001b[0;34m\u001b[0m\u001b[0m\n\u001b[0m\u001b[1;32m   1412\u001b[0m \u001b[0;34m\u001b[0m\u001b[0m\n\u001b[1;32m   1413\u001b[0m             \u001b[0mv\u001b[0m \u001b[0;34m=\u001b[0m \u001b[0mvalidated_v\u001b[0m\u001b[0;34m\u001b[0m\u001b[0;34m\u001b[0m\u001b[0m\n",
            "\u001b[0;32m/usr/local/lib/python3.11/dist-packages/_plotly_utils/basevalidators.py\u001b[0m in \u001b[0;36mraise_invalid_val\u001b[0;34m(self, v, inds)\u001b[0m\n\u001b[1;32m    294\u001b[0m                 \u001b[0mname\u001b[0m \u001b[0;34m+=\u001b[0m \u001b[0;34m\"[\"\u001b[0m \u001b[0;34m+\u001b[0m \u001b[0mstr\u001b[0m\u001b[0;34m(\u001b[0m\u001b[0mi\u001b[0m\u001b[0;34m)\u001b[0m \u001b[0;34m+\u001b[0m \u001b[0;34m\"]\"\u001b[0m\u001b[0;34m\u001b[0m\u001b[0;34m\u001b[0m\u001b[0m\n\u001b[1;32m    295\u001b[0m \u001b[0;34m\u001b[0m\u001b[0m\n\u001b[0;32m--> 296\u001b[0;31m         raise ValueError(\n\u001b[0m\u001b[1;32m    297\u001b[0m             \"\"\"\n\u001b[1;32m    298\u001b[0m     \u001b[0mInvalid\u001b[0m \u001b[0mvalue\u001b[0m \u001b[0mof\u001b[0m \u001b[0mtype\u001b[0m \u001b[0;34m{\u001b[0m\u001b[0mtyp\u001b[0m\u001b[0;34m}\u001b[0m \u001b[0mreceived\u001b[0m \u001b[0;32mfor\u001b[0m \u001b[0mthe\u001b[0m \u001b[0;34m'{name}'\u001b[0m \u001b[0mproperty\u001b[0m \u001b[0mof\u001b[0m \u001b[0;34m{\u001b[0m\u001b[0mpname\u001b[0m\u001b[0;34m}\u001b[0m\u001b[0;34m\u001b[0m\u001b[0;34m\u001b[0m\u001b[0m\n",
            "\u001b[0;31mValueError\u001b[0m: \n    Invalid value of type 'builtins.str' received for the 'color' property of histogram.marker\n        Received value: 'rgba(255, 153, 51, np.float64(1.0))'\n\n    The 'color' property is a color and may be specified as:\n      - A hex string (e.g. '#ff0000')\n      - An rgb/rgba string (e.g. 'rgb(255,0,0)')\n      - An hsl/hsla string (e.g. 'hsl(0,100%,50%)')\n      - An hsv/hsva string (e.g. 'hsv(0,100%,100%)')\n      - A named CSS color:\n            aliceblue, antiquewhite, aqua, aquamarine, azure,\n            beige, bisque, black, blanchedalmond, blue,\n            blueviolet, brown, burlywood, cadetblue,\n            chartreuse, chocolate, coral, cornflowerblue,\n            cornsilk, crimson, cyan, darkblue, darkcyan,\n            darkgoldenrod, darkgray, darkgrey, darkgreen,\n            darkkhaki, darkmagenta, darkolivegreen, darkorange,\n            darkorchid, darkred, darksalmon, darkseagreen,\n            darkslateblue, darkslategray, darkslategrey,\n            darkturquoise, darkviolet, deeppink, deepskyblue,\n            dimgray, dimgrey, dodgerblue, firebrick,\n            floralwhite, forestgreen, fuchsia, gainsboro,\n            ghostwhite, gold, goldenrod, gray, grey, green,\n            greenyellow, honeydew, hotpink, indianred, indigo,\n            ivory, khaki, lavender, lavenderblush, lawngreen,\n            lemonchiffon, lightblue, lightcoral, lightcyan,\n            lightgoldenrodyellow, lightgray, lightgrey,\n            lightgreen, lightpink, lightsalmon, lightseagreen,\n            lightskyblue, lightslategray, lightslategrey,\n            lightsteelblue, lightyellow, lime, limegreen,\n            linen, magenta, maroon, mediumaquamarine,\n            mediumblue, mediumorchid, mediumpurple,\n            mediumseagreen, mediumslateblue, mediumspringgreen,\n            mediumturquoise, mediumvioletred, midnightblue,\n            mintcream, mistyrose, moccasin, navajowhite, navy,\n            oldlace, olive, olivedrab, orange, orangered,\n            orchid, palegoldenrod, palegreen, paleturquoise,\n            palevioletred, papayawhip, peachpuff, peru, pink,\n            plum, powderblue, purple, red, rosybrown,\n            royalblue, rebeccapurple, saddlebrown, salmon,\n            sandybrown, seagreen, seashell, sienna, silver,\n            skyblue, slateblue, slategray, slategrey, snow,\n            springgreen, steelblue, tan, teal, thistle, tomato,\n            turquoise, violet, wheat, white, whitesmoke,\n            yellow, yellowgreen\n      - A number that will be interpreted as a color\n        according to histogram.marker.colorscale\n      - A list or array of any of the above"
          ]
        }
      ]
    },
    {
      "cell_type": "code",
      "source": [
        "i=1\n",
        "for col in numeric_col:\n",
        "    fig = px.box(df, x=col, points=\"all\",template=\"plotly_dark\",width=500,height=250)\n",
        "\n",
        "    fig.show()"
      ],
      "metadata": {
        "id": "vznOlGqa0MPu"
      },
      "execution_count": null,
      "outputs": []
    },
    {
      "cell_type": "code",
      "source": [
        "numeric_col_withoutTerget=[\"Income\",\"Age\",\"Attractiveness\"]"
      ],
      "metadata": {
        "id": "Q-mL41_v0MPu"
      },
      "execution_count": null,
      "outputs": []
    },
    {
      "cell_type": "code",
      "source": [
        "\n",
        "\n",
        "i = 1\n",
        "plt.figure(figsize=(25, 90))\n",
        "\n",
        "for col in numeric_col_withoutTerget:\n",
        "    plt.subplot(11, 2, i)\n",
        "    sns.kdeplot(data=df, hue=\"Matches\", x=col, fill=True)\n",
        "    plt.xticks(fontsize=25)\n",
        "    plt.yticks(fontsize=25)\n",
        "    plt.xlabel(col, fontsize=25)\n",
        "    plt.ylabel(\"count\", fontsize=25)\n",
        "    i = i + 1\n",
        "\n",
        "    plt.subplot(11, 2, i)\n",
        "    sns.boxplot(x=\"Matches\", y=col, data=df)\n",
        "    plt.xticks(fontsize=25)\n",
        "    plt.yticks(fontsize=25)\n",
        "    plt.xlabel(\"Matches\", fontsize=25)\n",
        "    plt.ylabel(col, fontsize=25)\n",
        "    i = i + 1\n",
        "\n",
        "plt.show()\n"
      ],
      "metadata": {
        "id": "Vf12hile0MPu"
      },
      "execution_count": null,
      "outputs": []
    },
    {
      "cell_type": "markdown",
      "source": [
        "<a id=\"6.2\"></a>\n",
        "<div class=\"list-group\" id=\"1\" role=\"tablist\">\n",
        "<p style=\"padding: 20px; background-color:#7FDBFF;color: Black;font-weight: bold;\n",
        "              text-align: center; font-size:220%;border-radius:20px 80px;\">🔥 Categorical columns EDA</p>"
      ],
      "metadata": {
        "id": "ymuWlKoY0MPu"
      }
    },
    {
      "cell_type": "code",
      "source": [
        "df.head()"
      ],
      "metadata": {
        "id": "A-TnLq_i0MPu"
      },
      "execution_count": null,
      "outputs": []
    },
    {
      "cell_type": "code",
      "source": [
        "encoded_cat=[\"Gender\",'PurchasedVIP','Children']"
      ],
      "metadata": {
        "id": "cXbsPDRX0MPv"
      },
      "execution_count": null,
      "outputs": []
    },
    {
      "cell_type": "code",
      "source": [
        "i = 1\n",
        "colors = [\"#00FFFF\", \"#FFA500\", \"#ADD8E6\", \"#ED00D9\", \"#ED1400\"]\n",
        "textprops = {\"fontsize\": 22}\n",
        "plt.figure(figsize=(25, 70))\n",
        "\n",
        "for col in encoded_cat:\n",
        "    plt.subplot(11, 2, i)\n",
        "    ax = sns.countplot(data=df, x=col, palette=colors)\n",
        "    plt.xticks(fontsize=20)\n",
        "    plt.yticks(fontsize=20)\n",
        "    plt.xlabel(col, fontsize=20)\n",
        "    plt.ylabel(\"count\", fontsize=20)\n",
        "\n",
        "    # Adding labels on top of each bar\n",
        "    for p in ax.patches:\n",
        "        ax.annotate(f'{p.get_height()}', (p.get_x() + p.get_width() / 2., p.get_height()),\n",
        "                    ha='center', va='baseline', fontsize=20, color='black', xytext=(0, 5),\n",
        "                    textcoords='offset points')\n",
        "\n",
        "    i = i + 1\n",
        "\n",
        "plt.tight_layout()\n",
        "plt.show()\n",
        "\n"
      ],
      "metadata": {
        "id": "BFFST2YD0MPv"
      },
      "execution_count": null,
      "outputs": []
    },
    {
      "cell_type": "code",
      "source": [
        "i=1\n",
        "colors=[\"#00FFFF\",\"#FFA500\",\"#ADD8E6\",\"#ED00D9\",\"#ED1400\"]\n",
        "textprops = {\"fontsize\":22}\n",
        "plt.figure(figsize=(25,120))\n",
        "for col in encoded_cat:\n",
        "    plt.subplot(11,3,i)\n",
        "    df[col].value_counts().plot(kind=\"pie\",autopct=\"%.2f%%\",colors=colors,textprops=textprops,shadow=True, radius = 1.1)\n",
        "    plt.xticks(fontsize=20)\n",
        "    plt.yticks(fontsize=20)\n",
        "    plt.xlabel(col,fontsize=20)\n",
        "    plt.ylabel(\"count\",fontsize=20)\n",
        "    i=i+1\n"
      ],
      "metadata": {
        "id": "KgMM6Ecw0MPv"
      },
      "execution_count": null,
      "outputs": []
    },
    {
      "cell_type": "code",
      "source": [
        "i=1\n",
        "plt.figure(figsize=(25,90))\n",
        "for col in encoded_cat:\n",
        "    plt.subplot(11,2,i)\n",
        "    sns.kdeplot(data=df,hue=\"Matches\",x=col,shade = \"fill\")\n",
        "    plt.xticks(fontsize=25)\n",
        "    plt.yticks(fontsize=25)\n",
        "    plt.xlabel(col,fontsize=25)\n",
        "    plt.ylabel(\"\",fontsize=25)\n",
        "    i=i+1\n",
        "    plt.subplot(11,2,i)\n",
        "    sns.histplot(data=df,hue=\"Matches\",x=col)\n",
        "    plt.xticks(fontsize=25)\n",
        "    plt.yticks(fontsize=25)\n",
        "    plt.xlabel(col,fontsize=25)\n",
        "    plt.ylabel(\"\",fontsize=25)\n",
        "    i=i+1\n",
        "\n",
        "plt.show()"
      ],
      "metadata": {
        "id": "hWu0FU080MPv"
      },
      "execution_count": null,
      "outputs": []
    },
    {
      "cell_type": "markdown",
      "source": [
        "<a id=\"7\"></a>\n",
        "<div class=\"list-group\" id=\"1\" role=\"tablist\">\n",
        "<p style=\"padding: 20px; background-color:#7FDBFF;color: Black;font-weight: bold;\n",
        "              text-align: center; font-size:220%;border-radius:20px 80px;\">🚂Features Engineering</p>"
      ],
      "metadata": {
        "id": "IS8mSQ8U0MPv"
      }
    },
    {
      "cell_type": "code",
      "source": [
        "df.head()"
      ],
      "metadata": {
        "id": "rZ0RaUGG0MPv"
      },
      "execution_count": null,
      "outputs": []
    },
    {
      "cell_type": "code",
      "source": [
        "# Get the features and terget columns\n",
        "X=df.iloc[:,0:-1]\n",
        "y=df.Matches"
      ],
      "metadata": {
        "id": "c4DoruhJ0MPv"
      },
      "execution_count": null,
      "outputs": []
    },
    {
      "cell_type": "code",
      "source": [
        "X.head()"
      ],
      "metadata": {
        "id": "shEOS9At0MPw"
      },
      "execution_count": null,
      "outputs": []
    },
    {
      "cell_type": "markdown",
      "source": [
        "<a id=\"7.1\"></a>\n",
        "<div class=\"list-group\" id=\"1\" role=\"tablist\">\n",
        "<p style=\"padding: 20px; background-color:#7FDBFF;color: Black;font-weight: bold;\n",
        "              text-align: center; font-size:220%;border-radius:20px 80px;\"> 🎯Normalized skewed columns </p>"
      ],
      "metadata": {
        "id": "oDzp49v10MPw"
      }
    },
    {
      "cell_type": "code",
      "source": [
        "#let find the skewed col and fix them\n",
        "\n",
        "skew_limit=0.75 # limit for skewed col\n",
        "skew_vals=X[numeric_col_withoutTerget].skew()\n",
        "skew_col=skew_vals[abs(skew_vals)>skew_limit].sort_values(ascending =False)\n",
        "\n",
        "#graphically represent the skewed col\n",
        "i=1\n",
        "# print(\"Columns names: \",skew_col.index)\n",
        "print(\"\\n\")\n",
        "print(\"Number of Skewed columns:--->>\\n\",len(skew_col))\n",
        "plt.figure(figsize=(40,60))\n",
        "for col in skew_col.index:\n",
        "    plt.subplot(8,2,i)\n",
        "    sns.distplot(X[col],color=\"r\")\n",
        "    plt.xticks(fontsize=25)\n",
        "    plt.yticks(fontsize=25)\n",
        "    plt.xlabel(col,fontsize=25)\n",
        "    i=i+1\n",
        "\n",
        "\n",
        "plt.show()"
      ],
      "metadata": {
        "id": "AGEedZB50MPw"
      },
      "execution_count": null,
      "outputs": []
    },
    {
      "cell_type": "markdown",
      "source": [
        "<b>No skewed columns found, Great😊"
      ],
      "metadata": {
        "id": "2KjXVz_k0MPw"
      }
    },
    {
      "cell_type": "markdown",
      "source": [
        "<a id=\"7.2\"></a>\n",
        "<div class=\"list-group\" id=\"1\" role=\"tablist\">\n",
        "<p style=\"padding: 20px; background-color:#7FDBFF;color: Black;font-weight: bold;\n",
        "              text-align: center; font-size:220%;border-radius:20px 80px;\">👽Outliers detection and removed </p>"
      ],
      "metadata": {
        "id": "p2i-J-nC0MPw"
      }
    },
    {
      "cell_type": "code",
      "source": [
        "# Function to detect outliers in a given data series\n",
        "def outlier(data):\n",
        "    mean = data.mean()\n",
        "    std = data.std()\n",
        "\n",
        "    # Find the boundaries for outliers\n",
        "    highest = mean + 3 * std\n",
        "    lowest = mean - 3 * std\n",
        "\n",
        "    # Find the outliers\n",
        "    outliers = data[(data > highest) | (data < lowest)]\n",
        "\n",
        "    return outliers\n",
        "\n",
        "# Outliers detection and removal function for specified columns\n",
        "def detect_and_remove_outliers(df, columns):\n",
        "    outliers_df = pd.DataFrame()  # DataFrame to store outlier rows\n",
        "    for col in columns:\n",
        "        if col in df.columns:\n",
        "            test = outlier(df[col])\n",
        "            print(\"Column name:\", col)\n",
        "            print(\"Number of outliers:\", len(test))\n",
        "            print(\"\\n\")\n",
        "            outliers_rows = df.loc[test.index]\n",
        "            print(\"Outliers rows:\")\n",
        "            print(outliers_rows)\n",
        "            print(\"<<<<<<<<<------------------------------------->>>>>>>>>\")\n",
        "            print(\"\\n\")\n",
        "            outliers_df = pd.concat([outliers_df, outliers_rows])\n",
        "\n",
        "    # Drop outliers from the original DataFrame\n",
        "    df = df.drop(outliers_df.index, axis=0)\n",
        "\n",
        "    return df, outliers_df\n",
        "\n",
        "\n",
        "numeric_cols = [\"Income\", \"Age\", \"Attractiveness\"]\n",
        "cleaned_df, outliers = detect_and_remove_outliers(X, numeric_cols)\n",
        "\n"
      ],
      "metadata": {
        "id": "U5NqokHZ0MPw"
      },
      "execution_count": null,
      "outputs": []
    },
    {
      "cell_type": "code",
      "source": [
        "print(\"outliers are:\")\n",
        "outliers"
      ],
      "metadata": {
        "id": "xcYU-Dux0MPw"
      },
      "execution_count": null,
      "outputs": []
    },
    {
      "cell_type": "markdown",
      "source": [
        "<b>Outliers are removed from the dataset"
      ],
      "metadata": {
        "id": "wv2x3GoH0MPw"
      }
    },
    {
      "cell_type": "markdown",
      "source": [
        "<a id=\"7.3\"></a>\n",
        "<div class=\"list-group\" id=\"1\" role=\"tablist\">\n",
        "<p style=\"padding: 20px; background-color:#7FDBFF;color: Black;font-weight: bold;\n",
        "              text-align: center; font-size:220%;border-radius:20px 80px;\"> 🐱‍🏍Train test split</p>"
      ],
      "metadata": {
        "id": "siX7QNl50MPw"
      }
    },
    {
      "cell_type": "code",
      "source": [
        "#It is a good practise to split the data to avoiding the data leakage\n",
        "#train test split\n",
        "x_train,x_test,y_train,y_test=train_test_split(X,y,test_size=0.2,random_state=42)\n",
        "print(\"X_train shape: \",x_train.shape)\n",
        "print(\"X_test shape: \",x_test.shape)\n",
        "print()\n",
        "print(\"Y_train shape: \",y_train.shape)\n",
        "print(\"Y_test shape: \",y_test.shape)\n"
      ],
      "metadata": {
        "id": "8dAu4GaZ0MPx"
      },
      "execution_count": null,
      "outputs": []
    },
    {
      "cell_type": "markdown",
      "source": [
        "<a id=\"7.4\"></a>\n",
        "<div class=\"list-group\" id=\"1\" role=\"tablist\">\n",
        "<p style=\"padding: 20px; background-color:#7FDBFF;color: Black;font-weight: bold;\n",
        "              text-align: center; font-size:220%;border-radius:20px 80px;\"> 🤖 Scaling the features</p>"
      ],
      "metadata": {
        "id": "Vy7UIWiN0MPx"
      }
    },
    {
      "cell_type": "code",
      "source": [
        "# Using standard scaler\n",
        "sc=StandardScaler()\n",
        "\n",
        "x_train_scaled=sc.fit_transform(x_train)\n",
        "x_test_scaled=sc.transform(x_test)\n",
        "\n",
        "x_train = pd.DataFrame(x_train_scaled, columns = x_train.columns[:])\n",
        "x_test = pd.DataFrame(x_test_scaled, columns = x_test.columns[:])\n",
        "x_train.head()"
      ],
      "metadata": {
        "id": "WZ95FY850MPx"
      },
      "execution_count": null,
      "outputs": []
    },
    {
      "cell_type": "code",
      "source": [
        "plt.figure(figsize=(6, 5))\n",
        "plt.title('After Scaling')\n",
        "plt.xlabel('Values')\n",
        "for col in x_train.columns:\n",
        "    sns.kdeplot(x_train[col], label=col)\n",
        "plt.legend()\n",
        "plt.show()"
      ],
      "metadata": {
        "id": "JVSjc7rB0MPx"
      },
      "execution_count": null,
      "outputs": []
    },
    {
      "cell_type": "markdown",
      "source": [
        "<b>we done all the steps ,now our features are ready to fit in the models 😜"
      ],
      "metadata": {
        "id": "Mwf-_Vxy0MPx"
      }
    },
    {
      "cell_type": "markdown",
      "source": [
        "<a id=\"8\"></a>\n",
        "<div class=\"list-group\" id=\"1\" role=\"tablist\">\n",
        "<p style=\"padding: 20px; background-color:#7FDBFF;color: Black;font-weight: bold;\n",
        "              text-align: center; font-size:220%;border-radius:20px 80px;\"> 🤖 Create & Train Model</p>"
      ],
      "metadata": {
        "id": "g6Q8apoC0MPx"
      }
    },
    {
      "cell_type": "code",
      "source": [
        "# Function to evaluate models with features and target\n",
        "def models_score(models, x_train, x_test, y_train, y_test):\n",
        "    scores = {}\n",
        "\n",
        "    for name, model in models.items():\n",
        "        model.fit(x_train, y_train)\n",
        "        y_pred = model.predict(x_test)\n",
        "        r2 = r2_score(y_test, y_pred)\n",
        "        mse = mean_squared_error(y_test, y_pred)\n",
        "        mae = mean_absolute_error(y_test, y_pred)\n",
        "        rmse = np.sqrt(mse)  # Calculate RMSE\n",
        "\n",
        "        scores[name] = {\n",
        "            'R2 Score': r2,\n",
        "            'MSE': mse,\n",
        "            'MAE': mae,\n",
        "            'RMSE': rmse\n",
        "        }\n",
        "\n",
        "        # Printing the model name and evaluation metrics\n",
        "        print(\"Model name:\", name)\n",
        "        print(\"R2 Score:\", r2)\n",
        "        print(\"MSE:\", mse)\n",
        "        print(\"MAE:\", mae)\n",
        "        print(\"RMSE:\", rmse)\n",
        "        print(\"\\n<<<<------------------------------------------------------------->>>>\\n\")\n",
        "\n",
        "    # Create a DataFrame from the scores dictionary\n",
        "    model_scores = pd.DataFrame(scores).transpose()\n",
        "    model_scores = model_scores.sort_values('R2 Score', ascending=False)\n",
        "\n",
        "    return model_scores"
      ],
      "metadata": {
        "id": "UTdAL1x-0MPx"
      },
      "execution_count": null,
      "outputs": []
    },
    {
      "cell_type": "code",
      "source": [
        "#initialize the models\n",
        "models = {\"LinearRegression\":LinearRegression(),\n",
        "          \"AdaBoost\":AdaBoostRegressor(),\n",
        "          \"GradiantBoost\":GradientBoostingRegressor(),\n",
        "         \"RandomForest\":RandomForestRegressor(),\n",
        "         \"XgBoost\": XGBRegressor(),\n",
        "         \"KNeighborsRegressor\":KNeighborsRegressor(),\n",
        "         \"DecisionTree\":DecisionTreeRegressor()}"
      ],
      "metadata": {
        "id": "b5sP1i670MPx"
      },
      "execution_count": null,
      "outputs": []
    },
    {
      "cell_type": "markdown",
      "source": [
        "<a id=\"9\"></a>\n",
        "<div class=\"list-group\" id=\"1\" role=\"tablist\">\n",
        "<p style=\"padding: 20px; background-color:#7FDBFF;color: Black;font-weight: bold;\n",
        "              text-align: center; font-size:220%;border-radius:20px 80px;\">🧮 Models Score</p>"
      ],
      "metadata": {
        "id": "66C8QT_G0MPx"
      }
    },
    {
      "cell_type": "code",
      "source": [
        "# Call the function to evaluate models\n",
        "scores = models_score(models, x_train, x_test, y_train, y_test)"
      ],
      "metadata": {
        "id": "w-oZdxLP0MPy"
      },
      "execution_count": null,
      "outputs": []
    },
    {
      "cell_type": "code",
      "source": [
        "# Prepare the DataFrame for visualization\n",
        "model_scores = scores.reset_index().rename({\"index\": \"Algorithms\"}, axis=1)"
      ],
      "metadata": {
        "id": "gSoxGjc30MPy"
      },
      "execution_count": null,
      "outputs": []
    },
    {
      "cell_type": "code",
      "source": [
        "model_scores"
      ],
      "metadata": {
        "id": "V9ZDMwwy0MPy"
      },
      "execution_count": null,
      "outputs": []
    },
    {
      "cell_type": "markdown",
      "source": [
        "<a id=\"10\"></a>\n",
        "<div class=\"list-group\" id=\"1\" role=\"tablist\">\n",
        "<p style=\"padding: 20px; background-color:#7FDBFF;color: Black;font-weight: bold;\n",
        "              text-align: center; font-size:220%;border-radius:20px 80px;\">📊 Visualize Model Score</p>"
      ],
      "metadata": {
        "id": "e94dD-oW0MPy"
      }
    },
    {
      "cell_type": "code",
      "source": [
        "model_scores_r2 = model_scores.iloc[:,0:2]"
      ],
      "metadata": {
        "id": "eDshcbNX0MPy"
      },
      "execution_count": null,
      "outputs": []
    },
    {
      "cell_type": "code",
      "source": [
        "model_scores_r2.style.bar()"
      ],
      "metadata": {
        "id": "1l4dSzQA0MPy"
      },
      "execution_count": null,
      "outputs": []
    },
    {
      "cell_type": "code",
      "source": [
        "# Visualize the R2 Score\n",
        "fig_r2 = px.bar(data_frame=model_scores,\n",
        "                x=\"Algorithms\",\n",
        "                y=\"R2 Score\",\n",
        "                color=\"Algorithms\",\n",
        "                title=\"<b>Models R2 Score</b>\",\n",
        "                template='plotly_dark')\n",
        "\n",
        "fig_r2.update_layout(bargap=0.2)\n",
        "fig_r2.show()"
      ],
      "metadata": {
        "id": "ISVcMijC0MPy"
      },
      "execution_count": null,
      "outputs": []
    },
    {
      "cell_type": "code",
      "source": [
        "label = model_scores['Algorithms']\n",
        "value = model_scores['R2 Score']\n",
        "\n",
        "fig = go.Figure(data=[go.Pie(labels = label, values = value, rotation = 90)])\n",
        "\n",
        "fig.update_traces(textposition='inside',\n",
        "                  textinfo='percent+label',\n",
        "                  marker=dict(line=dict(color='#000000', width = 1.5)))\n",
        "\n",
        "fig.update_layout(title_x=0.5,\n",
        "                  title_font=dict(size=20),\n",
        "                  uniformtext_minsize=15)\n",
        "\n",
        "fig.show()"
      ],
      "metadata": {
        "id": "xn9cMpRX0MPy"
      },
      "execution_count": null,
      "outputs": []
    },
    {
      "cell_type": "markdown",
      "source": [
        "<a id=\"\"></a>\n",
        "<div class=\"list-group\" id=\"1\" role=\"tablist\">\n",
        "<p style=\"padding: 20px; background-color:#7FDBFF;color: Black;font-weight: bold;\n",
        "              text-align: center; font-size:220%;border-radius:20px 80px;\">🌈Thank you 🎃 Happy kaggling</p>"
      ],
      "metadata": {
        "id": "3Napp3bh0MPy"
      }
    }
  ]
}