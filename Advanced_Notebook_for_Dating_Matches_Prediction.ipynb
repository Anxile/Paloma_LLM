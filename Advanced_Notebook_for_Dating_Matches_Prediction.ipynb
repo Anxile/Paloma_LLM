{
  "metadata": {
    "kernelspec": {
      "name": "python3",
      "display_name": "Python 3",
      "language": "python"
    },
    "language_info": {
      "name": "python",
      "version": "3.10.13",
      "mimetype": "text/x-python",
      "codemirror_mode": {
        "name": "ipython",
        "version": 3
      },
      "pygments_lexer": "ipython3",
      "nbconvert_exporter": "python",
      "file_extension": ".py"
    },
    "kaggle": {
      "accelerator": "none",
      "dataSources": [
        {
          "sourceId": 8744629,
          "sourceType": "datasetVersion",
          "datasetId": 5250700
        }
      ],
      "dockerImageVersionId": 30732,
      "isInternetEnabled": true,
      "language": "python",
      "sourceType": "notebook",
      "isGpuEnabled": false
    },
    "colab": {
      "provenance": [],
      "include_colab_link": true
    }
  },
  "nbformat_minor": 0,
  "nbformat": 4,
  "cells": [
    {
      "cell_type": "markdown",
      "metadata": {
        "id": "view-in-github",
        "colab_type": "text"
      },
      "source": [
        "<a href=\"https://colab.research.google.com/github/Anxile/Paloma_LLM/blob/main/Advanced_Notebook_for_Dating_Matches_Prediction.ipynb\" target=\"_parent\"><img src=\"https://colab.research.google.com/assets/colab-badge.svg\" alt=\"Open In Colab\"/></a>"
      ]
    },
    {
      "source": [
        "# IMPORTANT: RUN THIS CELL IN ORDER TO IMPORT YOUR KAGGLE DATA SOURCES,\n",
        "# THEN FEEL FREE TO DELETE THIS CELL.\n",
        "# NOTE: THIS NOTEBOOK ENVIRONMENT DIFFERS FROM KAGGLE'S PYTHON\n",
        "# ENVIRONMENT SO THERE MAY BE MISSING LIBRARIES USED BY YOUR\n",
        "# NOTEBOOK.\n",
        "import kagglehub\n",
        "rabieelkharoua_predict_online_dating_matches_dataset_path = kagglehub.dataset_download('rabieelkharoua/predict-online-dating-matches-dataset')\n",
        "\n",
        "print('Data source import complete.')\n"
      ],
      "metadata": {
        "id": "Vb_66nBW0MPq"
      },
      "cell_type": "code",
      "outputs": [],
      "execution_count": null
    },
    {
      "cell_type": "code",
      "source": [
        "# This Python 3 environment comes with many helpful analytics libraries installed\n",
        "# It is defined by the kaggle/python Docker image: https://github.com/kaggle/docker-python\n",
        "# For example, here's several helpful packages to load\n",
        "\n",
        "import numpy as np # linear algebra\n",
        "import pandas as pd # data processing, CSV file I/O (e.g. pd.read_csv)\n",
        "\n",
        "# Input data files are available in the read-only \"../input/\" directory\n",
        "# For example, running this (by clicking run or pressing Shift+Enter) will list all files under the input directory\n",
        "\n",
        "import os\n",
        "for dirname, _, filenames in os.walk('/kaggle/input'):\n",
        "    for filename in filenames:\n",
        "        print(os.path.join(dirname, filename))\n",
        "\n",
        "# You can write up to 20GB to the current directory (/kaggle/working/) that gets preserved as output when you create a version using \"Save & Run All\"\n",
        "# You can also write temporary files to /kaggle/temp/, but they won't be saved outside of the current session"
      ],
      "metadata": {
        "execution": {
          "iopub.status.busy": "2024-06-25T09:27:34.628981Z",
          "iopub.execute_input": "2024-06-25T09:27:34.629408Z",
          "iopub.status.idle": "2024-06-25T09:27:35.10449Z",
          "shell.execute_reply.started": "2024-06-25T09:27:34.629371Z",
          "shell.execute_reply": "2024-06-25T09:27:35.103371Z"
        },
        "trusted": true,
        "id": "NV245H_80MPr"
      },
      "execution_count": null,
      "outputs": []
    },
    {
      "cell_type": "markdown",
      "source": [
        "<a id='top'></a>\n",
        "<div class=\"list-group\" id=\"list-tab\" role=\"tablist\">\n",
        "<p style=\"padding: 20px; background-color:#7FDBFF;color: Black;font-weight: bold;\n",
        "          text-align: center; font-size:250%;border-radius:20px 80px;\">Online Dating Matches Prediction</p>"
      ],
      "metadata": {
        "id": "cWFTvsPo0MPr"
      }
    },
    {
      "cell_type": "markdown",
      "source": [
        "![My Image](https://storage.googleapis.com/kaggle-datasets-images/5250700/8744629/fa737d29cb27e064e63d09bb83b6bbb9/dataset-cover.jpg?t=2024-06-21-07-43-54)"
      ],
      "metadata": {
        "id": "LyM0zkU20MPr"
      }
    },
    {
      "cell_type": "markdown",
      "source": [
        "<b>🙋‍♂️🙋‍♀️ Hi all !!! We are going to work with Online Dating Matches Dataset, If you like this notebook then plz consider a upvote for me 😎😎"
      ],
      "metadata": {
        "id": "4sMCLxYc0MPr"
      }
    },
    {
      "cell_type": "markdown",
      "source": [
        "<a id=\"\"></a>\n",
        "<div class=\"list-group\" id=\"list-tab\" role=\"tablist\">\n",
        "<p style=\"padding: 20px; background-color:#7FDBFF;color: Black;font-weight: bold;\n",
        "              text-align: center; font-size:250%;border-radius:20px 80px;\">📋 TABLE OF CONTENTS</p>"
      ],
      "metadata": {
        "id": "XdMCZ7aC0MPr"
      }
    },
    {
      "cell_type": "markdown",
      "source": [
        "* [1. Importing Libraries](#1)\n",
        "    \n",
        "* [2. Meta information of dataframe](#2)\n",
        "    \n",
        "* [3.Missing values.](#3)\n",
        "\n",
        "* [3.1 Duplicated rows.](#3.1)\n",
        "    \n",
        "* [4.Statistical information of Dataframe](#4)\n",
        "\n",
        "* [5.Visualize correlation of independent features and check multicolinarity problems](#5)\n",
        "    \n",
        "* [6. EDA & Visualization](#6)\n",
        "\n",
        "    * [6.1. Numerical EDA](#6.1)\n",
        "    \n",
        "    * [6.2. Categorical EDA](#6.2)\n",
        "        \n",
        "    \n",
        "* [7. 🏍Feature Engineering](#7)\n",
        "\n",
        "    * [7.1.🏍Normalized skewed col](#7.1)\n",
        "    \n",
        "    * [7.1.🏍Outliers detection and removed](#7.2)\n",
        "    \n",
        "    * [7.2.🏍Train test split](#7.3)\n",
        "       \n",
        "    * [7.3. Scaling Features](#7.4)\n",
        "       \n",
        "    \n",
        "\n",
        "* [8. Create & Train Model](#8)\n",
        "\n",
        "* [9. Models Score](#9)\n",
        "\n",
        "* [10. Visualize Models Score](#10)\n",
        "\n",
        "\n"
      ],
      "metadata": {
        "id": "reev1q4y0MPs"
      }
    },
    {
      "cell_type": "markdown",
      "source": [
        "<a id=\"\"></a>\n",
        "<div class=\"list-group\" id=\"list-tab\" role=\"tablist\">\n",
        "<p style=\"padding: 20px; background-color:#7FDBFF;color: Black;font-weight: bold;\n",
        "              text-align: center; font-size:250%;border-radius:20px 80px;\"> 🚢Data Story</p>"
      ],
      "metadata": {
        "id": "dcWhqcH-0MPs"
      }
    },
    {
      "cell_type": "markdown",
      "source": [
        "<b>Data:<b/>\n",
        "    \n",
        "The Dataset provides a comprehensive view into the dynamics of online matchmaking interactions. It captures essential variables that influence the likelihood of successful matches across different genders. This dataset allows researchers and analysts to explore how factors such as VIP subscription status, income levels, parental status, age, and self-perceived attractiveness contribute to the outcomes of online dating endeavors.\n",
        "\n",
        "<b>Variables:<b/>\n",
        "    \n",
        "1. Gender: 0 (Male), 1 (Female)\n",
        "    \n",
        "2. PurchasedVIP: 0 (No), 1 (Yes)\n",
        "    \n",
        "3. Income: Annual income in USD\n",
        "    \n",
        "4. Children: Number of children\n",
        "    \n",
        "5. Age: Age of the user\n",
        "    \n",
        "6. Attractiveness: Subjective rating of attractiveness (1-10)\n",
        "    \n",
        "7. Matches: Number of matches obtained based on criteria\n",
        "    \n",
        "<b>Target Variable:<b/>\n",
        "    \n",
        "Matches: Number of matches received, indicative of success rate in online dating\n",
        "    "
      ],
      "metadata": {
        "id": "xYxM7Ls90MPs"
      }
    },
    {
      "cell_type": "markdown",
      "source": [
        "<a id=\"1\"></a>\n",
        "<div class=\"list-group\" id=\"1\" role=\"tablist\">\n",
        "<p style=\"padding: 20px; background-color:#7FDBFF;color: Black;font-weight: bold;\n",
        "              text-align: center; font-size:250%;border-radius:20px 80px;\">🎰 Importing Libraries</p>"
      ],
      "metadata": {
        "id": "V16UB8Ak0MPs"
      }
    },
    {
      "cell_type": "code",
      "source": [
        "#importing library\n",
        "import numpy as np\n",
        "import pandas as pd\n",
        "import matplotlib.pyplot as plt\n",
        "import seaborn as sns\n",
        "from sklearn.model_selection import GridSearchCV\n",
        "from sklearn.compose import ColumnTransformer\n",
        "from sklearn.pipeline import Pipeline\n",
        "from sklearn.metrics import r2_score,mean_absolute_error,mean_squared_error\n",
        "from sklearn.preprocessing import OneHotEncoder,OrdinalEncoder,StandardScaler,MinMaxScaler,PowerTransformer,FunctionTransformer\n",
        "from sklearn.model_selection import train_test_split,cross_val_score\n",
        "from sklearn.linear_model import LinearRegression\n",
        "from sklearn.ensemble import AdaBoostRegressor,GradientBoostingRegressor,RandomForestRegressor\n",
        "from sklearn.neighbors import KNeighborsRegressor\n",
        "from sklearn.svm import SVR\n",
        "from sklearn.tree import DecisionTreeRegressor\n",
        "from xgboost import XGBRegressor\n",
        "from xgboost.sklearn import XGBRegressor\n",
        "import warnings\n",
        "warnings.filterwarnings(\"ignore\")\n",
        "\n",
        "\n",
        "import cufflinks as cf\n",
        "import plotly.offline\n",
        "cf.go_offline()\n",
        "cf.set_config_file(offline=False, world_readable=True)\n",
        "import plotly\n",
        "import plotly.express as px\n",
        "import plotly.graph_objs as go\n",
        "import plotly.offline as py\n",
        "from plotly.offline import iplot\n",
        "from plotly.subplots import make_subplots\n",
        "import plotly.figure_factory as ff\n",
        "from plotly import tools\n",
        "\n",
        "\n",
        "%matplotlib inline"
      ],
      "metadata": {
        "id": "x_HhZX-r0MPs"
      },
      "execution_count": null,
      "outputs": []
    },
    {
      "cell_type": "code",
      "source": [
        "#Load the dataset and check the data head.\n",
        "df=pd.read_csv(\"/kaggle/input/predict-online-dating-matches-dataset/Online_Dating_Behavior_Dataset.csv\")\n",
        "df.head()"
      ],
      "metadata": {
        "id": "uLiGtlwI0MPs"
      },
      "execution_count": null,
      "outputs": []
    },
    {
      "cell_type": "markdown",
      "source": [
        "<a id=\"2\"></a>\n",
        "<div class=\"list-group\" id=\"1\" role=\"tablist\">\n",
        "<p style=\"padding: 20px; background-color:#7FDBFF;color: Black;font-weight: bold;\n",
        "              text-align: center; font-size:220%;border-radius:20px 80px;\">📝 Meta information\n",
        "    about Dataframe</p>"
      ],
      "metadata": {
        "id": "b1dHfJka0MPs"
      }
    },
    {
      "cell_type": "code",
      "source": [
        "#check the rows and columns number.\n",
        "print(f\"number of rows:--> {df.shape[0]} and number of columns:--> {df.shape[1]}\")"
      ],
      "metadata": {
        "id": "5tO5GXnR0MPs"
      },
      "execution_count": null,
      "outputs": []
    },
    {
      "cell_type": "code",
      "source": [
        "df.columns"
      ],
      "metadata": {
        "id": "yGi2uqaU0MPs"
      },
      "execution_count": null,
      "outputs": []
    },
    {
      "cell_type": "code",
      "source": [
        "#chack the data information\n",
        "df.info()"
      ],
      "metadata": {
        "id": "7lq9VM3Z0MPs"
      },
      "execution_count": null,
      "outputs": []
    },
    {
      "cell_type": "markdown",
      "source": [
        "<a id=\"3\"></a>\n",
        "<div class=\"list-group\" id=\"1\" role=\"tablist\">\n",
        "<p style=\"padding: 20px; background-color:#7FDBFF;color: Black;font-weight: bold;\n",
        "              text-align: center; font-size:220%;border-radius:20px 80px;\">🛒Missing values </p>"
      ],
      "metadata": {
        "id": "IAeJwiEf0MPs"
      }
    },
    {
      "cell_type": "code",
      "source": [
        "#check for missing values\n",
        "def checking_m(df):\n",
        "    null_v = df.isnull().sum().sort_values(ascending=False)\n",
        "    null_percent = (df.isnull().sum()/df.isnull().count()).sort_values(ascending=False)\n",
        "    null_v = pd.concat([null_v, null_percent], axis=1, keys=['Missing_Number', 'Missing_Percent'])\n",
        "    return null_v\n",
        "\n",
        "checking_m(df)"
      ],
      "metadata": {
        "id": "gc4DmsuB0MPt"
      },
      "execution_count": null,
      "outputs": []
    },
    {
      "cell_type": "markdown",
      "source": [
        "<b>No missing or Nan values found , great 😁"
      ],
      "metadata": {
        "id": "JWyvFSay0MPt"
      }
    },
    {
      "cell_type": "markdown",
      "source": [
        "<a id=\"3.1\"></a>\n",
        "<div class=\"list-group\" id=\"1\" role=\"tablist\">\n",
        "<p style=\"padding: 20px; background-color:#7FDBFF;color: Black;font-weight: bold;\n",
        "              text-align: center; font-size:220%;border-radius:20px 80px;\">🤼‍♀️Duplicated rows </p>"
      ],
      "metadata": {
        "id": "aFSXkJLq0MPt"
      }
    },
    {
      "cell_type": "code",
      "source": [
        "#check for dublicated rows\n",
        "print(\"Numbers of duplicated rows :\",df.duplicated().sum())"
      ],
      "metadata": {
        "id": "8LtCln7E0MPt"
      },
      "execution_count": null,
      "outputs": []
    },
    {
      "cell_type": "markdown",
      "source": [
        "<a id=\"4\"></a>\n",
        "<div class=\"list-group\" id=\"1\" role=\"tablist\">\n",
        "<p style=\"padding: 20px; background-color:#7FDBFF;color: Black;font-weight: bold;\n",
        "              text-align: center; font-size:220%;border-radius:20px 80px;\">📈 Statistical information of Dataframe </p>"
      ],
      "metadata": {
        "id": "n1OvM_K30MPt"
      }
    },
    {
      "cell_type": "code",
      "source": [
        "#check data description\n",
        "df.describe().T.style.bar(subset=['mean'], color='#205ff2').background_gradient(subset=['std'], cmap='mako').background_gradient(subset=['50%'], cmap='coolwarm')"
      ],
      "metadata": {
        "id": "P7nAcawu0MPt"
      },
      "execution_count": null,
      "outputs": []
    },
    {
      "cell_type": "code",
      "source": [
        "#check the correlation between terget and each of columns\n",
        "df.corr()[\"Matches\"]"
      ],
      "metadata": {
        "id": "Z0WfbalF0MPt"
      },
      "execution_count": null,
      "outputs": []
    },
    {
      "cell_type": "markdown",
      "source": [
        "<a id=\"5\"></a>\n",
        "<div class=\"list-group\" id=\"1\" role=\"tablist\">\n",
        "<p style=\"padding: 20px; background-color:#7FDBFF;color: Black;font-weight: bold;\n",
        "              text-align: center; font-size:150%;border-radius:20px 80px;\">🎰 Visualize correlation of independent features and check multicolinarity problems </p>"
      ],
      "metadata": {
        "id": "sPAE7vji0MPt"
      }
    },
    {
      "cell_type": "code",
      "source": [
        "plt.figure(figsize=(20,10))\n",
        "\n",
        "#plot heat map\n",
        "sns.heatmap(df.corr(),annot=True,cmap=\"YlGnBu\",linecolor='black')"
      ],
      "metadata": {
        "id": "cV75_UiD0MPt"
      },
      "execution_count": null,
      "outputs": []
    },
    {
      "cell_type": "code",
      "source": [
        "#with the function we can select highly correlated  independent features\n",
        "#it will remove the first feature that is correlated with anything other feature\n",
        "def correlation(df,threshold):\n",
        "    coll_corr=set() #set of all the names of correlated columns\n",
        "    corr_matrix=df.corr()\n",
        "    for i in range (len(corr_matrix.columns)):\n",
        "        for j in range(i):\n",
        "            if abs(corr_matrix.iloc[i,j])> threshold:\n",
        "                colname=corr_matrix.columns[i] #getting the name of columns\n",
        "                coll_corr.add(colname)\n",
        "    return coll_corr"
      ],
      "metadata": {
        "id": "4HH55Ha-0MPt"
      },
      "execution_count": null,
      "outputs": []
    },
    {
      "cell_type": "code",
      "source": [
        "#calling the fuction\n",
        "corr_feature = correlation(df.iloc[:,:-1],0.85)\n",
        "len(set(corr_feature))"
      ],
      "metadata": {
        "id": "K6HeksV90MPt"
      },
      "execution_count": null,
      "outputs": []
    },
    {
      "cell_type": "markdown",
      "source": [
        "<b> No highly correlated independent features or no multicolinarity problems 😎"
      ],
      "metadata": {
        "id": "397SSAHj0MPt"
      }
    },
    {
      "cell_type": "markdown",
      "source": [
        "<a id=\"6\"></a>\n",
        "<div class=\"list-group\" id=\"1\" role=\"tablist\">\n",
        "<p style=\"padding: 20px; background-color:#7FDBFF;color: Black;font-weight: bold;\n",
        "              text-align: center; font-size:250%;border-radius:20px 80px;\">🔥 EDA & Visualization</p>"
      ],
      "metadata": {
        "id": "E130FG8x0MPt"
      }
    },
    {
      "cell_type": "markdown",
      "source": [
        "<a id=\"6.1\"></a>\n",
        "<div class=\"list-group\" id=\"1\" role=\"tablist\">\n",
        "<p style=\"padding: 20px; background-color:#7FDBFF;color: Black;font-weight: bold;\n",
        "              text-align: center; font-size:250%;border-radius:20px 80px;\">🔥 Numerical columns EDA</p>"
      ],
      "metadata": {
        "id": "vn-uySZj0MPt"
      }
    },
    {
      "cell_type": "code",
      "source": [
        "df.head()"
      ],
      "metadata": {
        "id": "_BuMf6Tw0MPt"
      },
      "execution_count": null,
      "outputs": []
    },
    {
      "cell_type": "code",
      "source": [
        "numeric_col=[\"Income\",\"Age\",\"Attractiveness\",\"Matches\"]"
      ],
      "metadata": {
        "id": "tYLl3tfD0MPu"
      },
      "execution_count": null,
      "outputs": []
    },
    {
      "cell_type": "code",
      "source": [
        "df[numeric_col].iplot(kind='histogram',subplots=True)"
      ],
      "metadata": {
        "id": "XvQzXd2P0MPu"
      },
      "execution_count": null,
      "outputs": []
    },
    {
      "cell_type": "code",
      "source": [
        "i=1\n",
        "for col in numeric_col:\n",
        "    fig = px.box(df, x=col, points=\"all\",template=\"plotly_dark\",width=500,height=250)\n",
        "\n",
        "    fig.show()"
      ],
      "metadata": {
        "id": "vznOlGqa0MPu"
      },
      "execution_count": null,
      "outputs": []
    },
    {
      "cell_type": "code",
      "source": [
        "numeric_col_withoutTerget=[\"Income\",\"Age\",\"Attractiveness\"]"
      ],
      "metadata": {
        "id": "Q-mL41_v0MPu"
      },
      "execution_count": null,
      "outputs": []
    },
    {
      "cell_type": "code",
      "source": [
        "\n",
        "\n",
        "i = 1\n",
        "plt.figure(figsize=(25, 90))\n",
        "\n",
        "for col in numeric_col_withoutTerget:\n",
        "    plt.subplot(11, 2, i)\n",
        "    sns.kdeplot(data=df, hue=\"Matches\", x=col, fill=True)\n",
        "    plt.xticks(fontsize=25)\n",
        "    plt.yticks(fontsize=25)\n",
        "    plt.xlabel(col, fontsize=25)\n",
        "    plt.ylabel(\"count\", fontsize=25)\n",
        "    i = i + 1\n",
        "\n",
        "    plt.subplot(11, 2, i)\n",
        "    sns.boxplot(x=\"Matches\", y=col, data=df)\n",
        "    plt.xticks(fontsize=25)\n",
        "    plt.yticks(fontsize=25)\n",
        "    plt.xlabel(\"Matches\", fontsize=25)\n",
        "    plt.ylabel(col, fontsize=25)\n",
        "    i = i + 1\n",
        "\n",
        "plt.show()\n"
      ],
      "metadata": {
        "id": "Vf12hile0MPu"
      },
      "execution_count": null,
      "outputs": []
    },
    {
      "cell_type": "markdown",
      "source": [
        "<a id=\"6.2\"></a>\n",
        "<div class=\"list-group\" id=\"1\" role=\"tablist\">\n",
        "<p style=\"padding: 20px; background-color:#7FDBFF;color: Black;font-weight: bold;\n",
        "              text-align: center; font-size:220%;border-radius:20px 80px;\">🔥 Categorical columns EDA</p>"
      ],
      "metadata": {
        "id": "ymuWlKoY0MPu"
      }
    },
    {
      "cell_type": "code",
      "source": [
        "df.head()"
      ],
      "metadata": {
        "id": "A-TnLq_i0MPu"
      },
      "execution_count": null,
      "outputs": []
    },
    {
      "cell_type": "code",
      "source": [
        "encoded_cat=[\"Gender\",'PurchasedVIP','Children']"
      ],
      "metadata": {
        "id": "cXbsPDRX0MPv"
      },
      "execution_count": null,
      "outputs": []
    },
    {
      "cell_type": "code",
      "source": [
        "i = 1\n",
        "colors = [\"#00FFFF\", \"#FFA500\", \"#ADD8E6\", \"#ED00D9\", \"#ED1400\"]\n",
        "textprops = {\"fontsize\": 22}\n",
        "plt.figure(figsize=(25, 70))\n",
        "\n",
        "for col in encoded_cat:\n",
        "    plt.subplot(11, 2, i)\n",
        "    ax = sns.countplot(data=df, x=col, palette=colors)\n",
        "    plt.xticks(fontsize=20)\n",
        "    plt.yticks(fontsize=20)\n",
        "    plt.xlabel(col, fontsize=20)\n",
        "    plt.ylabel(\"count\", fontsize=20)\n",
        "\n",
        "    # Adding labels on top of each bar\n",
        "    for p in ax.patches:\n",
        "        ax.annotate(f'{p.get_height()}', (p.get_x() + p.get_width() / 2., p.get_height()),\n",
        "                    ha='center', va='baseline', fontsize=20, color='black', xytext=(0, 5),\n",
        "                    textcoords='offset points')\n",
        "\n",
        "    i = i + 1\n",
        "\n",
        "plt.tight_layout()\n",
        "plt.show()\n",
        "\n"
      ],
      "metadata": {
        "id": "BFFST2YD0MPv"
      },
      "execution_count": null,
      "outputs": []
    },
    {
      "cell_type": "code",
      "source": [
        "i=1\n",
        "colors=[\"#00FFFF\",\"#FFA500\",\"#ADD8E6\",\"#ED00D9\",\"#ED1400\"]\n",
        "textprops = {\"fontsize\":22}\n",
        "plt.figure(figsize=(25,120))\n",
        "for col in encoded_cat:\n",
        "    plt.subplot(11,3,i)\n",
        "    df[col].value_counts().plot(kind=\"pie\",autopct=\"%.2f%%\",colors=colors,textprops=textprops,shadow=True, radius = 1.1)\n",
        "    plt.xticks(fontsize=20)\n",
        "    plt.yticks(fontsize=20)\n",
        "    plt.xlabel(col,fontsize=20)\n",
        "    plt.ylabel(\"count\",fontsize=20)\n",
        "    i=i+1\n"
      ],
      "metadata": {
        "id": "KgMM6Ecw0MPv"
      },
      "execution_count": null,
      "outputs": []
    },
    {
      "cell_type": "code",
      "source": [
        "i=1\n",
        "plt.figure(figsize=(25,90))\n",
        "for col in encoded_cat:\n",
        "    plt.subplot(11,2,i)\n",
        "    sns.kdeplot(data=df,hue=\"Matches\",x=col,shade = \"fill\")\n",
        "    plt.xticks(fontsize=25)\n",
        "    plt.yticks(fontsize=25)\n",
        "    plt.xlabel(col,fontsize=25)\n",
        "    plt.ylabel(\"\",fontsize=25)\n",
        "    i=i+1\n",
        "    plt.subplot(11,2,i)\n",
        "    sns.histplot(data=df,hue=\"Matches\",x=col)\n",
        "    plt.xticks(fontsize=25)\n",
        "    plt.yticks(fontsize=25)\n",
        "    plt.xlabel(col,fontsize=25)\n",
        "    plt.ylabel(\"\",fontsize=25)\n",
        "    i=i+1\n",
        "\n",
        "plt.show()"
      ],
      "metadata": {
        "id": "hWu0FU080MPv"
      },
      "execution_count": null,
      "outputs": []
    },
    {
      "cell_type": "markdown",
      "source": [
        "<a id=\"7\"></a>\n",
        "<div class=\"list-group\" id=\"1\" role=\"tablist\">\n",
        "<p style=\"padding: 20px; background-color:#7FDBFF;color: Black;font-weight: bold;\n",
        "              text-align: center; font-size:220%;border-radius:20px 80px;\">🚂Features Engineering</p>"
      ],
      "metadata": {
        "id": "IS8mSQ8U0MPv"
      }
    },
    {
      "cell_type": "code",
      "source": [
        "df.head()"
      ],
      "metadata": {
        "id": "rZ0RaUGG0MPv"
      },
      "execution_count": null,
      "outputs": []
    },
    {
      "cell_type": "code",
      "source": [
        "# Get the features and terget columns\n",
        "X=df.iloc[:,0:-1]\n",
        "y=df.Matches"
      ],
      "metadata": {
        "id": "c4DoruhJ0MPv"
      },
      "execution_count": null,
      "outputs": []
    },
    {
      "cell_type": "code",
      "source": [
        "X.head()"
      ],
      "metadata": {
        "id": "shEOS9At0MPw"
      },
      "execution_count": null,
      "outputs": []
    },
    {
      "cell_type": "markdown",
      "source": [
        "<a id=\"7.1\"></a>\n",
        "<div class=\"list-group\" id=\"1\" role=\"tablist\">\n",
        "<p style=\"padding: 20px; background-color:#7FDBFF;color: Black;font-weight: bold;\n",
        "              text-align: center; font-size:220%;border-radius:20px 80px;\"> 🎯Normalized skewed columns </p>"
      ],
      "metadata": {
        "id": "oDzp49v10MPw"
      }
    },
    {
      "cell_type": "code",
      "source": [
        "#let find the skewed col and fix them\n",
        "\n",
        "skew_limit=0.75 # limit for skewed col\n",
        "skew_vals=X[numeric_col_withoutTerget].skew()\n",
        "skew_col=skew_vals[abs(skew_vals)>skew_limit].sort_values(ascending =False)\n",
        "\n",
        "#graphically represent the skewed col\n",
        "i=1\n",
        "# print(\"Columns names: \",skew_col.index)\n",
        "print(\"\\n\")\n",
        "print(\"Number of Skewed columns:--->>\\n\",len(skew_col))\n",
        "plt.figure(figsize=(40,60))\n",
        "for col in skew_col.index:\n",
        "    plt.subplot(8,2,i)\n",
        "    sns.distplot(X[col],color=\"r\")\n",
        "    plt.xticks(fontsize=25)\n",
        "    plt.yticks(fontsize=25)\n",
        "    plt.xlabel(col,fontsize=25)\n",
        "    i=i+1\n",
        "\n",
        "\n",
        "plt.show()"
      ],
      "metadata": {
        "id": "AGEedZB50MPw"
      },
      "execution_count": null,
      "outputs": []
    },
    {
      "cell_type": "markdown",
      "source": [
        "<b>No skewed columns found, Great😊"
      ],
      "metadata": {
        "id": "2KjXVz_k0MPw"
      }
    },
    {
      "cell_type": "markdown",
      "source": [
        "<a id=\"7.2\"></a>\n",
        "<div class=\"list-group\" id=\"1\" role=\"tablist\">\n",
        "<p style=\"padding: 20px; background-color:#7FDBFF;color: Black;font-weight: bold;\n",
        "              text-align: center; font-size:220%;border-radius:20px 80px;\">👽Outliers detection and removed </p>"
      ],
      "metadata": {
        "id": "p2i-J-nC0MPw"
      }
    },
    {
      "cell_type": "code",
      "source": [
        "# Function to detect outliers in a given data series\n",
        "def outlier(data):\n",
        "    mean = data.mean()\n",
        "    std = data.std()\n",
        "\n",
        "    # Find the boundaries for outliers\n",
        "    highest = mean + 3 * std\n",
        "    lowest = mean - 3 * std\n",
        "\n",
        "    # Find the outliers\n",
        "    outliers = data[(data > highest) | (data < lowest)]\n",
        "\n",
        "    return outliers\n",
        "\n",
        "# Outliers detection and removal function for specified columns\n",
        "def detect_and_remove_outliers(df, columns):\n",
        "    outliers_df = pd.DataFrame()  # DataFrame to store outlier rows\n",
        "    for col in columns:\n",
        "        if col in df.columns:\n",
        "            test = outlier(df[col])\n",
        "            print(\"Column name:\", col)\n",
        "            print(\"Number of outliers:\", len(test))\n",
        "            print(\"\\n\")\n",
        "            outliers_rows = df.loc[test.index]\n",
        "            print(\"Outliers rows:\")\n",
        "            print(outliers_rows)\n",
        "            print(\"<<<<<<<<<------------------------------------->>>>>>>>>\")\n",
        "            print(\"\\n\")\n",
        "            outliers_df = pd.concat([outliers_df, outliers_rows])\n",
        "\n",
        "    # Drop outliers from the original DataFrame\n",
        "    df = df.drop(outliers_df.index, axis=0)\n",
        "\n",
        "    return df, outliers_df\n",
        "\n",
        "\n",
        "numeric_cols = [\"Income\", \"Age\", \"Attractiveness\"]\n",
        "cleaned_df, outliers = detect_and_remove_outliers(X, numeric_cols)\n",
        "\n"
      ],
      "metadata": {
        "id": "U5NqokHZ0MPw"
      },
      "execution_count": null,
      "outputs": []
    },
    {
      "cell_type": "code",
      "source": [
        "print(\"outliers are:\")\n",
        "outliers"
      ],
      "metadata": {
        "id": "xcYU-Dux0MPw"
      },
      "execution_count": null,
      "outputs": []
    },
    {
      "cell_type": "markdown",
      "source": [
        "<b>Outliers are removed from the dataset"
      ],
      "metadata": {
        "id": "wv2x3GoH0MPw"
      }
    },
    {
      "cell_type": "markdown",
      "source": [
        "<a id=\"7.3\"></a>\n",
        "<div class=\"list-group\" id=\"1\" role=\"tablist\">\n",
        "<p style=\"padding: 20px; background-color:#7FDBFF;color: Black;font-weight: bold;\n",
        "              text-align: center; font-size:220%;border-radius:20px 80px;\"> 🐱‍🏍Train test split</p>"
      ],
      "metadata": {
        "id": "siX7QNl50MPw"
      }
    },
    {
      "cell_type": "code",
      "source": [
        "#It is a good practise to split the data to avoiding the data leakage\n",
        "#train test split\n",
        "x_train,x_test,y_train,y_test=train_test_split(X,y,test_size=0.2,random_state=42)\n",
        "print(\"X_train shape: \",x_train.shape)\n",
        "print(\"X_test shape: \",x_test.shape)\n",
        "print()\n",
        "print(\"Y_train shape: \",y_train.shape)\n",
        "print(\"Y_test shape: \",y_test.shape)\n"
      ],
      "metadata": {
        "id": "8dAu4GaZ0MPx"
      },
      "execution_count": null,
      "outputs": []
    },
    {
      "cell_type": "markdown",
      "source": [
        "<a id=\"7.4\"></a>\n",
        "<div class=\"list-group\" id=\"1\" role=\"tablist\">\n",
        "<p style=\"padding: 20px; background-color:#7FDBFF;color: Black;font-weight: bold;\n",
        "              text-align: center; font-size:220%;border-radius:20px 80px;\"> 🤖 Scaling the features</p>"
      ],
      "metadata": {
        "id": "Vy7UIWiN0MPx"
      }
    },
    {
      "cell_type": "code",
      "source": [
        "# Using standard scaler\n",
        "sc=StandardScaler()\n",
        "\n",
        "x_train_scaled=sc.fit_transform(x_train)\n",
        "x_test_scaled=sc.transform(x_test)\n",
        "\n",
        "x_train = pd.DataFrame(x_train_scaled, columns = x_train.columns[:])\n",
        "x_test = pd.DataFrame(x_test_scaled, columns = x_test.columns[:])\n",
        "x_train.head()"
      ],
      "metadata": {
        "id": "WZ95FY850MPx"
      },
      "execution_count": null,
      "outputs": []
    },
    {
      "cell_type": "code",
      "source": [
        "plt.figure(figsize=(6, 5))\n",
        "plt.title('After Scaling')\n",
        "plt.xlabel('Values')\n",
        "for col in x_train.columns:\n",
        "    sns.kdeplot(x_train[col], label=col)\n",
        "plt.legend()\n",
        "plt.show()"
      ],
      "metadata": {
        "id": "JVSjc7rB0MPx"
      },
      "execution_count": null,
      "outputs": []
    },
    {
      "cell_type": "markdown",
      "source": [
        "<b>we done all the steps ,now our features are ready to fit in the models 😜"
      ],
      "metadata": {
        "id": "Mwf-_Vxy0MPx"
      }
    },
    {
      "cell_type": "markdown",
      "source": [
        "<a id=\"8\"></a>\n",
        "<div class=\"list-group\" id=\"1\" role=\"tablist\">\n",
        "<p style=\"padding: 20px; background-color:#7FDBFF;color: Black;font-weight: bold;\n",
        "              text-align: center; font-size:220%;border-radius:20px 80px;\"> 🤖 Create & Train Model</p>"
      ],
      "metadata": {
        "id": "g6Q8apoC0MPx"
      }
    },
    {
      "cell_type": "code",
      "source": [
        "# Function to evaluate models with features and target\n",
        "def models_score(models, x_train, x_test, y_train, y_test):\n",
        "    scores = {}\n",
        "\n",
        "    for name, model in models.items():\n",
        "        model.fit(x_train, y_train)\n",
        "        y_pred = model.predict(x_test)\n",
        "        r2 = r2_score(y_test, y_pred)\n",
        "        mse = mean_squared_error(y_test, y_pred)\n",
        "        mae = mean_absolute_error(y_test, y_pred)\n",
        "        rmse = np.sqrt(mse)  # Calculate RMSE\n",
        "\n",
        "        scores[name] = {\n",
        "            'R2 Score': r2,\n",
        "            'MSE': mse,\n",
        "            'MAE': mae,\n",
        "            'RMSE': rmse\n",
        "        }\n",
        "\n",
        "        # Printing the model name and evaluation metrics\n",
        "        print(\"Model name:\", name)\n",
        "        print(\"R2 Score:\", r2)\n",
        "        print(\"MSE:\", mse)\n",
        "        print(\"MAE:\", mae)\n",
        "        print(\"RMSE:\", rmse)\n",
        "        print(\"\\n<<<<------------------------------------------------------------->>>>\\n\")\n",
        "\n",
        "    # Create a DataFrame from the scores dictionary\n",
        "    model_scores = pd.DataFrame(scores).transpose()\n",
        "    model_scores = model_scores.sort_values('R2 Score', ascending=False)\n",
        "\n",
        "    return model_scores"
      ],
      "metadata": {
        "id": "UTdAL1x-0MPx"
      },
      "execution_count": null,
      "outputs": []
    },
    {
      "cell_type": "code",
      "source": [
        "#initialize the models\n",
        "models = {\"LinearRegression\":LinearRegression(),\n",
        "          \"AdaBoost\":AdaBoostRegressor(),\n",
        "          \"GradiantBoost\":GradientBoostingRegressor(),\n",
        "         \"RandomForest\":RandomForestRegressor(),\n",
        "         \"XgBoost\": XGBRegressor(),\n",
        "         \"KNeighborsRegressor\":KNeighborsRegressor(),\n",
        "         \"DecisionTree\":DecisionTreeRegressor()}"
      ],
      "metadata": {
        "id": "b5sP1i670MPx"
      },
      "execution_count": null,
      "outputs": []
    },
    {
      "cell_type": "markdown",
      "source": [
        "<a id=\"9\"></a>\n",
        "<div class=\"list-group\" id=\"1\" role=\"tablist\">\n",
        "<p style=\"padding: 20px; background-color:#7FDBFF;color: Black;font-weight: bold;\n",
        "              text-align: center; font-size:220%;border-radius:20px 80px;\">🧮 Models Score</p>"
      ],
      "metadata": {
        "id": "66C8QT_G0MPx"
      }
    },
    {
      "cell_type": "code",
      "source": [
        "# Call the function to evaluate models\n",
        "scores = models_score(models, x_train, x_test, y_train, y_test)"
      ],
      "metadata": {
        "id": "w-oZdxLP0MPy"
      },
      "execution_count": null,
      "outputs": []
    },
    {
      "cell_type": "code",
      "source": [
        "# Prepare the DataFrame for visualization\n",
        "model_scores = scores.reset_index().rename({\"index\": \"Algorithms\"}, axis=1)"
      ],
      "metadata": {
        "id": "gSoxGjc30MPy"
      },
      "execution_count": null,
      "outputs": []
    },
    {
      "cell_type": "code",
      "source": [
        "model_scores"
      ],
      "metadata": {
        "id": "V9ZDMwwy0MPy"
      },
      "execution_count": null,
      "outputs": []
    },
    {
      "cell_type": "markdown",
      "source": [
        "<a id=\"10\"></a>\n",
        "<div class=\"list-group\" id=\"1\" role=\"tablist\">\n",
        "<p style=\"padding: 20px; background-color:#7FDBFF;color: Black;font-weight: bold;\n",
        "              text-align: center; font-size:220%;border-radius:20px 80px;\">📊 Visualize Model Score</p>"
      ],
      "metadata": {
        "id": "e94dD-oW0MPy"
      }
    },
    {
      "cell_type": "code",
      "source": [
        "model_scores_r2 = model_scores.iloc[:,0:2]"
      ],
      "metadata": {
        "id": "eDshcbNX0MPy"
      },
      "execution_count": null,
      "outputs": []
    },
    {
      "cell_type": "code",
      "source": [
        "model_scores_r2.style.bar()"
      ],
      "metadata": {
        "id": "1l4dSzQA0MPy"
      },
      "execution_count": null,
      "outputs": []
    },
    {
      "cell_type": "code",
      "source": [
        "# Visualize the R2 Score\n",
        "fig_r2 = px.bar(data_frame=model_scores,\n",
        "                x=\"Algorithms\",\n",
        "                y=\"R2 Score\",\n",
        "                color=\"Algorithms\",\n",
        "                title=\"<b>Models R2 Score</b>\",\n",
        "                template='plotly_dark')\n",
        "\n",
        "fig_r2.update_layout(bargap=0.2)\n",
        "fig_r2.show()"
      ],
      "metadata": {
        "id": "ISVcMijC0MPy"
      },
      "execution_count": null,
      "outputs": []
    },
    {
      "cell_type": "code",
      "source": [
        "label = model_scores['Algorithms']\n",
        "value = model_scores['R2 Score']\n",
        "\n",
        "fig = go.Figure(data=[go.Pie(labels = label, values = value, rotation = 90)])\n",
        "\n",
        "fig.update_traces(textposition='inside',\n",
        "                  textinfo='percent+label',\n",
        "                  marker=dict(line=dict(color='#000000', width = 1.5)))\n",
        "\n",
        "fig.update_layout(title_x=0.5,\n",
        "                  title_font=dict(size=20),\n",
        "                  uniformtext_minsize=15)\n",
        "\n",
        "fig.show()"
      ],
      "metadata": {
        "id": "xn9cMpRX0MPy"
      },
      "execution_count": null,
      "outputs": []
    },
    {
      "cell_type": "markdown",
      "source": [
        "<a id=\"\"></a>\n",
        "<div class=\"list-group\" id=\"1\" role=\"tablist\">\n",
        "<p style=\"padding: 20px; background-color:#7FDBFF;color: Black;font-weight: bold;\n",
        "              text-align: center; font-size:220%;border-radius:20px 80px;\">🌈Thank you 🎃 Happy kaggling</p>"
      ],
      "metadata": {
        "id": "3Napp3bh0MPy"
      }
    }
  ]
}